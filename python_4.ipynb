{
 "cells": [
  {
   "cell_type": "code",
   "execution_count": 1,
   "id": "fe4338bf-f6af-4c69-a7ea-baa4b64fd9c6",
   "metadata": {},
   "outputs": [
    {
     "name": "stdout",
     "output_type": "stream",
     "text": [
      "7 2\n"
     ]
    }
   ],
   "source": [
    "a,b=7,2\n",
    "print(a,b)"
   ]
  },
  {
   "cell_type": "code",
   "execution_count": 2,
   "id": "aaef06ed-1ad8-42ca-a081-2d6c66462032",
   "metadata": {},
   "outputs": [
    {
     "name": "stdout",
     "output_type": "stream",
     "text": [
      "9\n"
     ]
    }
   ],
   "source": [
    "print(a+b)"
   ]
  },
  {
   "cell_type": "code",
   "execution_count": 3,
   "id": "5796ab97-c492-499f-b6a0-4542b47a3f76",
   "metadata": {},
   "outputs": [
    {
     "name": "stdout",
     "output_type": "stream",
     "text": [
      "5\n"
     ]
    }
   ],
   "source": [
    "print(a-b)"
   ]
  },
  {
   "cell_type": "code",
   "execution_count": 4,
   "id": "abd4870b-edd6-4ed9-b1cb-7c25b413c371",
   "metadata": {},
   "outputs": [
    {
     "name": "stdout",
     "output_type": "stream",
     "text": [
      "14\n"
     ]
    }
   ],
   "source": [
    "print(a*b)"
   ]
  },
  {
   "cell_type": "code",
   "execution_count": 5,
   "id": "eb50136d-3938-471c-bb6c-9293f7405a39",
   "metadata": {},
   "outputs": [
    {
     "name": "stdout",
     "output_type": "stream",
     "text": [
      "3.5\n"
     ]
    }
   ],
   "source": [
    "print(a/b)"
   ]
  },
  {
   "cell_type": "code",
   "execution_count": 6,
   "id": "72379b2d-5db3-4970-aa7e-e5cd7b19d6be",
   "metadata": {},
   "outputs": [
    {
     "name": "stdout",
     "output_type": "stream",
     "text": [
      "3\n"
     ]
    }
   ],
   "source": [
    "print(int(a/b))"
   ]
  },
  {
   "cell_type": "code",
   "execution_count": 7,
   "id": "08abef24-7e0e-4ca5-af9e-55ef3fa42c3b",
   "metadata": {},
   "outputs": [
    {
     "name": "stdout",
     "output_type": "stream",
     "text": [
      "3\n"
     ]
    }
   ],
   "source": [
    "print(a//b)"
   ]
  },
  {
   "cell_type": "code",
   "execution_count": 8,
   "id": "ec28656d-c595-4775-ad9a-c437ef0eab68",
   "metadata": {},
   "outputs": [
    {
     "name": "stdout",
     "output_type": "stream",
     "text": [
      "1\n"
     ]
    }
   ],
   "source": [
    "print(a%b)"
   ]
  },
  {
   "cell_type": "code",
   "execution_count": 9,
   "id": "1bd96190-7381-4751-bbf5-60ef829b83ab",
   "metadata": {},
   "outputs": [
    {
     "name": "stdout",
     "output_type": "stream",
     "text": [
      "49\n"
     ]
    }
   ],
   "source": [
    "print(a**b)"
   ]
  },
  {
   "cell_type": "code",
   "execution_count": 10,
   "id": "443d7daa-155e-47dc-a9ff-40f980c216c0",
   "metadata": {},
   "outputs": [
    {
     "name": "stdout",
     "output_type": "stream",
     "text": [
      "False\n"
     ]
    }
   ],
   "source": [
    "print(a<b)"
   ]
  },
  {
   "cell_type": "code",
   "execution_count": 11,
   "id": "439af89a-557e-40cc-811b-2966db362f5a",
   "metadata": {},
   "outputs": [
    {
     "name": "stdout",
     "output_type": "stream",
     "text": [
      "True\n"
     ]
    }
   ],
   "source": [
    "print(a>b)"
   ]
  },
  {
   "cell_type": "code",
   "execution_count": 12,
   "id": "91215fbd-4715-44e6-836e-92374e1bb47b",
   "metadata": {},
   "outputs": [
    {
     "name": "stdout",
     "output_type": "stream",
     "text": [
      "False\n"
     ]
    }
   ],
   "source": [
    "print(a==b)"
   ]
  },
  {
   "cell_type": "code",
   "execution_count": 13,
   "id": "9c48cf0d-8a6b-4e19-9d17-e9bc39ecb353",
   "metadata": {},
   "outputs": [
    {
     "name": "stdout",
     "output_type": "stream",
     "text": [
      "True\n"
     ]
    }
   ],
   "source": [
    "print(a!=b)"
   ]
  },
  {
   "cell_type": "code",
   "execution_count": 14,
   "id": "0ad78a68-6ae7-4f61-99d6-6e8635a757ea",
   "metadata": {},
   "outputs": [
    {
     "name": "stdout",
     "output_type": "stream",
     "text": [
      "False\n"
     ]
    }
   ],
   "source": [
    "print(a<=b)"
   ]
  },
  {
   "cell_type": "code",
   "execution_count": 15,
   "id": "70042ab0-8782-4908-9434-6e37da3a4c03",
   "metadata": {},
   "outputs": [
    {
     "name": "stdout",
     "output_type": "stream",
     "text": [
      "True\n"
     ]
    }
   ],
   "source": [
    "print(a>=b)"
   ]
  },
  {
   "cell_type": "code",
   "execution_count": 16,
   "id": "9ccaf904-d298-46b3-8639-9df926e445f0",
   "metadata": {},
   "outputs": [
    {
     "name": "stdout",
     "output_type": "stream",
     "text": [
      "2\n"
     ]
    }
   ],
   "source": [
    "a,b=7,2\n",
    "print(a&b)"
   ]
  },
  {
   "cell_type": "code",
   "execution_count": 17,
   "id": "791876c7-7e24-4f34-91b7-16f47fd0db2d",
   "metadata": {},
   "outputs": [
    {
     "name": "stdout",
     "output_type": "stream",
     "text": [
      "7\n"
     ]
    }
   ],
   "source": [
    "print(a|b)"
   ]
  },
  {
   "cell_type": "code",
   "execution_count": 18,
   "id": "0545cb85-9b70-4bc2-b47f-eb4411d2cc5f",
   "metadata": {},
   "outputs": [
    {
     "name": "stdout",
     "output_type": "stream",
     "text": [
      "5\n"
     ]
    }
   ],
   "source": [
    "print(a^b)"
   ]
  },
  {
   "cell_type": "code",
   "execution_count": 19,
   "id": "66292cc9-9756-4cf4-83d2-b86ad2ce316c",
   "metadata": {},
   "outputs": [
    {
     "name": "stdout",
     "output_type": "stream",
     "text": [
      "-8\n"
     ]
    }
   ],
   "source": [
    "print(~a)"
   ]
  },
  {
   "cell_type": "code",
   "execution_count": 20,
   "id": "fa8b6e12-8472-4c1f-8522-fbbf2e1c6712",
   "metadata": {},
   "outputs": [
    {
     "name": "stdout",
     "output_type": "stream",
     "text": [
      "-3\n"
     ]
    }
   ],
   "source": [
    "print(~b)"
   ]
  },
  {
   "cell_type": "code",
   "execution_count": 21,
   "id": "af6dc4e7-021e-42bd-b34b-8d9a10490fda",
   "metadata": {},
   "outputs": [
    {
     "name": "stdout",
     "output_type": "stream",
     "text": [
      "28\n"
     ]
    }
   ],
   "source": [
    "print(a<<b)"
   ]
  },
  {
   "cell_type": "code",
   "execution_count": 22,
   "id": "506bc2c4-0e26-4bbd-acff-007807ea2a39",
   "metadata": {},
   "outputs": [
    {
     "name": "stdout",
     "output_type": "stream",
     "text": [
      "1\n"
     ]
    }
   ],
   "source": [
    "print(a>>b)"
   ]
  },
  {
   "cell_type": "code",
   "execution_count": 23,
   "id": "0e6d2c32-e541-46bf-90db-dc32165edf50",
   "metadata": {},
   "outputs": [],
   "source": [
    "a = 50\n"
   ]
  },
  {
   "cell_type": "code",
   "execution_count": 24,
   "id": "a0c9859d-568e-41fa-9005-45f49d137642",
   "metadata": {},
   "outputs": [
    {
     "name": "stdout",
     "output_type": "stream",
     "text": [
      "60\n"
     ]
    }
   ],
   "source": [
    "a+=10\n",
    "print(a)"
   ]
  },
  {
   "cell_type": "code",
   "execution_count": 25,
   "id": "785578d9-ada5-4b0a-beba-a76b100b32be",
   "metadata": {},
   "outputs": [
    {
     "name": "stdout",
     "output_type": "stream",
     "text": [
      "60\n"
     ]
    }
   ],
   "source": [
    "print(a)"
   ]
  },
  {
   "cell_type": "code",
   "execution_count": 26,
   "id": "6f6b4c8e-e077-41d5-bfc6-8fb9dacfdef0",
   "metadata": {},
   "outputs": [
    {
     "name": "stdout",
     "output_type": "stream",
     "text": [
      "50\n"
     ]
    }
   ],
   "source": [
    "a-=10\n",
    "print(a)"
   ]
  },
  {
   "cell_type": "code",
   "execution_count": 27,
   "id": "fc56f84e-45a9-40b8-ab73-cfad58c4cd6c",
   "metadata": {},
   "outputs": [
    {
     "name": "stdout",
     "output_type": "stream",
     "text": [
      "100\n"
     ]
    }
   ],
   "source": [
    "a*=2\n",
    "print(a)"
   ]
  },
  {
   "cell_type": "code",
   "execution_count": 28,
   "id": "18987128-70f5-43a3-a344-376cd450f64c",
   "metadata": {},
   "outputs": [
    {
     "name": "stdout",
     "output_type": "stream",
     "text": [
      "10.0\n"
     ]
    }
   ],
   "source": [
    "a/=10\n",
    "print(a)"
   ]
  },
  {
   "cell_type": "code",
   "execution_count": 29,
   "id": "af3b30ea-83dc-4158-8717-736f8fa63742",
   "metadata": {},
   "outputs": [
    {
     "name": "stdout",
     "output_type": "stream",
     "text": [
      "1.0\n",
      "10.0\n"
     ]
    }
   ],
   "source": [
    "a%=3\n",
    "print(a)\n",
    "a*=10\n",
    "print(a)"
   ]
  },
  {
   "cell_type": "code",
   "execution_count": 30,
   "id": "34ebe98e-1dff-409e-bc9b-9a57f0478a00",
   "metadata": {},
   "outputs": [
    {
     "name": "stdout",
     "output_type": "stream",
     "text": [
      "100.0\n"
     ]
    }
   ],
   "source": [
    "a**=2\n",
    "print(a)"
   ]
  },
  {
   "cell_type": "code",
   "execution_count": 31,
   "id": "50aebbd2-7122-48cd-ad4d-d00a1545eea8",
   "metadata": {},
   "outputs": [
    {
     "name": "stdout",
     "output_type": "stream",
     "text": [
      "True\n",
      "True\n",
      "False\n"
     ]
    }
   ],
   "source": [
    "a=2\n",
    "b=2\n",
    "print(a is b)\n",
    "a=256\n",
    "b=256\n",
    "print(a is b)\n",
    "a=257\n",
    "b=257\n",
    "print(a is b)\n"
   ]
  },
  {
   "cell_type": "code",
   "execution_count": 32,
   "id": "72229a5a-e051-4d76-8109-ce8dca083deb",
   "metadata": {},
   "outputs": [
    {
     "name": "stdout",
     "output_type": "stream",
     "text": [
      "False\n"
     ]
    }
   ],
   "source": [
    "a=[1,2,3,4]\n",
    "b=[1,2,3,4]\n",
    "print(a is b)"
   ]
  },
  {
   "cell_type": "code",
   "execution_count": 33,
   "id": "7e7f8aee-a36f-4a94-b6c5-9d37cedb24ef",
   "metadata": {},
   "outputs": [
    {
     "name": "stdout",
     "output_type": "stream",
     "text": [
      "True\n"
     ]
    }
   ],
   "source": [
    "a=\"sam\"\n",
    "b=\"sam\"\n",
    "print(a is b)"
   ]
  },
  {
   "cell_type": "code",
   "execution_count": 34,
   "id": "233522ab-a208-41ba-95aa-dbef3c73d8df",
   "metadata": {},
   "outputs": [
    {
     "name": "stdout",
     "output_type": "stream",
     "text": [
      "True\n"
     ]
    }
   ],
   "source": [
    "a=[1,2,3,\"a\",\"b\"]\n",
    "print(\"a\" in a)"
   ]
  },
  {
   "cell_type": "code",
   "execution_count": 35,
   "id": "3469bc28-c6b2-41bf-b1ce-165ce2cbc38e",
   "metadata": {},
   "outputs": [
    {
     "name": "stdout",
     "output_type": "stream",
     "text": [
      "True\n",
      "False\n"
     ]
    }
   ],
   "source": [
    "dict={1:\"a\",2:\"b\"}\n",
    "print(1 in dict)\n",
    "print(\"a\" in dict)"
   ]
  },
  {
   "cell_type": "code",
   "execution_count": 36,
   "id": "74e4d430-3ecc-4e39-8f90-16f6f911f040",
   "metadata": {},
   "outputs": [
    {
     "name": "stdout",
     "output_type": "stream",
     "text": [
      " i am 20\n",
      "i am out of if\n"
     ]
    }
   ],
   "source": [
    "a=20\n",
    "if a>15:\n",
    "    print(\" i am 20\")\n",
    "print('i am out of if')    "
   ]
  },
  {
   "cell_type": "code",
   "execution_count": 37,
   "id": "5c7dceee-718e-4870-bb0a-015e9cb0dc07",
   "metadata": {},
   "outputs": [
    {
     "name": "stdout",
     "output_type": "stream",
     "text": [
      "adult\n"
     ]
    }
   ],
   "source": [
    "age=20\n",
    "if age>15:\n",
    "    print(\"adult\")\n",
    "else:\n",
    "    print(\"chhild\")"
   ]
  },
  {
   "cell_type": "code",
   "execution_count": 38,
   "id": "85ebd042-9510-4d75-97ff-dcc27ed69d71",
   "metadata": {},
   "outputs": [
    {
     "name": "stdout",
     "output_type": "stream",
     "text": [
      "adult\n"
     ]
    }
   ],
   "source": [
    "age=25\n",
    "if age>20:\n",
    "    print(\"adult\")\n",
    "elif age>15:\n",
    "    print(\"teen\")\n",
    "else:\n",
    "    print(\"child\")"
   ]
  },
  {
   "cell_type": "code",
   "execution_count": 39,
   "id": "870adc32-8af3-405d-a8ff-f3c8b882228e",
   "metadata": {},
   "outputs": [
    {
     "name": "stdout",
     "output_type": "stream",
     "text": [
      "adult\n"
     ]
    }
   ],
   "source": [
    "age=25\n",
    "if age>=18:\n",
    "    if age<=25:\n",
    "        print(\"adult\")\n",
    "    else:\n",
    "        print(\"inside else\")\n",
    "else:\n",
    "    print(\"out side else\")\n",
    "    "
   ]
  },
  {
   "cell_type": "code",
   "execution_count": 40,
   "id": "738230f4-faaf-4450-b825-ea36fb20469e",
   "metadata": {},
   "outputs": [
    {
     "name": "stdout",
     "output_type": "stream",
     "text": [
      "out side else\n",
      "always executes \n"
     ]
    }
   ],
   "source": [
    "age=5\n",
    "if age>=18:\n",
    "    if age<=25:\n",
    "        print(\"adult\")\n",
    "    else:\n",
    "        print(\"inside else\")\n",
    "else:\n",
    "    print(\"out side else\")\n",
    "print(\"always executes \")    "
   ]
  },
  {
   "cell_type": "code",
   "execution_count": 1,
   "id": "98881d8c-27a4-46f7-a539-ecf874502aed",
   "metadata": {},
   "outputs": [
    {
     "name": "stdout",
     "output_type": "stream",
     "text": [
      "person= adult\n"
     ]
    }
   ],
   "source": [
    "age=25\n",
    "\n",
    "if ((age>=15)and(age<=20)):\n",
    "    person=\"teen\"\n",
    "elif((age>=0)and(age<=14)):\n",
    "    person=\"child\"\n",
    "else:\n",
    "    person=\"adult\"\n",
    "print(\"person=\",person)\n",
    "\n",
    "\n"
   ]
  },
  {
   "cell_type": "code",
   "execution_count": null,
   "id": "8528b159-4ef8-4f02-8559-0ad65606a457",
   "metadata": {},
   "outputs": [],
   "source": [
    "l=[1,2,3,4,5,6]\n",
    "\n",
    "index=0\n",
    "while (index<len(l)):\n",
    "    if (l[index]==4):\n",
    "        break\n",
    "        index+=1\n",
    "        \n",
    "else:\n",
    "    print(\"im else \")\n",
    "print(\"i m out of loop\") "
   ]
  }
 ],
 "metadata": {
  "kernelspec": {
   "display_name": "Python 3",
   "language": "python",
   "name": "python3"
  },
  "language_info": {
   "codemirror_mode": {
    "name": "ipython",
    "version": 3
   },
   "file_extension": ".py",
   "mimetype": "text/x-python",
   "name": "python",
   "nbconvert_exporter": "python",
   "pygments_lexer": "ipython3",
   "version": "3.8.8"
  }
 },
 "nbformat": 4,
 "nbformat_minor": 5
}
