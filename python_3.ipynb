{
 "cells": [
  {
   "cell_type": "code",
   "execution_count": 1,
   "id": "abba13fb-5574-47d6-abd2-ef98aececc44",
   "metadata": {},
   "outputs": [
    {
     "name": "stdout",
     "output_type": "stream",
     "text": [
      "i am python, i coded everything\n"
     ]
    }
   ],
   "source": [
    "print(\"i am python, i coded everything\")"
   ]
  },
  {
   "cell_type": "code",
   "execution_count": 3,
   "id": "404157ff-c8cb-476e-b09f-5f5f6111af50",
   "metadata": {},
   "outputs": [
    {
     "name": "stdout",
     "output_type": "stream",
     "text": [
      "the number is: 500\n",
      "the number in string form500\n"
     ]
    }
   ],
   "source": [
    "a=500\n",
    "print(\"the number is:\",a)\n",
    "print(\"the number in string form\"+str(a))"
   ]
  },
  {
   "cell_type": "code",
   "execution_count": 4,
   "id": "080fd18b-3daf-491a-8817-76fb0eec5cde",
   "metadata": {},
   "outputs": [
    {
     "name": "stdout",
     "output_type": "stream",
     "text": [
      "500 is the number\n"
     ]
    }
   ],
   "source": [
    "print(\"{} is the number\".format(a))"
   ]
  },
  {
   "cell_type": "code",
   "execution_count": 6,
   "id": "71f83b67-40d1-400d-a76c-27ec6150c5cb",
   "metadata": {},
   "outputs": [
    {
     "name": "stdout",
     "output_type": "stream",
     "text": [
      "the values is 2 and  4\n"
     ]
    }
   ],
   "source": [
    "a=2\n",
    "b=4\n",
    "print(\"the values is {} and  {}\".format(a,b))"
   ]
  },
  {
   "cell_type": "code",
   "execution_count": 8,
   "id": "c8f7e0a0-4359-4a87-88ff-441a99b017a9",
   "metadata": {},
   "outputs": [
    {
     "name": "stdout",
     "output_type": "stream",
     "text": [
      "2 forst value is double of second number  4 \n"
     ]
    }
   ],
   "source": [
    "print(\"{} forst value is double of second number  {} \".format(a,b))"
   ]
  },
  {
   "cell_type": "code",
   "execution_count": 10,
   "id": "12fbfc45-7d6f-4455-8fc8-083beded4904",
   "metadata": {},
   "outputs": [
    {
     "name": "stdout",
     "output_type": "stream",
     "text": [
      "4 is double of another one is 2\n"
     ]
    }
   ],
   "source": [
    "print(\"{1} is double of another one is {0}\".format(a,b))"
   ]
  },
  {
   "cell_type": "code",
   "execution_count": 11,
   "id": "9146e1d4-ee34-4c64-9c97-5584e58e3b1e",
   "metadata": {},
   "outputs": [
    {
     "name": "stdout",
     "output_type": "stream",
     "text": [
      "4 is double of first number 2\n"
     ]
    }
   ],
   "source": [
    "print(\"{second} is double of first number {first}\".format(first=a,second=b))"
   ]
  },
  {
   "cell_type": "code",
   "execution_count": 13,
   "id": "2063b032-2881-4c4a-a190-1c3c05350657",
   "metadata": {},
   "outputs": [
    {
     "name": "stdout",
     "output_type": "stream",
     "text": [
      " ram :welcome to : ds,we are learning:  python\n"
     ]
    }
   ],
   "source": [
    "print(\" {0} :welcome to : {1},we are learning:  {subject}\".format(\"ram\",\"ds\",subject=\"python\"))"
   ]
  },
  {
   "cell_type": "code",
   "execution_count": 15,
   "id": "9b9ba6e3-5597-489b-9f1b-e8ff6d265eaa",
   "metadata": {},
   "outputs": [
    {
     "name": "stdout",
     "output_type": "stream",
     "text": [
      "-3.130000:-3.110000\n"
     ]
    }
   ],
   "source": [
    "print(\"{:+f}:{:+f}\".format(-3.13,-3.11))"
   ]
  },
  {
   "cell_type": "code",
   "execution_count": 16,
   "id": "0fd98547-ccc7-4a3a-b38b-da36a9933094",
   "metadata": {},
   "outputs": [
    {
     "name": "stdin",
     "output_type": "stream",
     "text": [
      "input enter number: 100\n"
     ]
    },
    {
     "name": "stdout",
     "output_type": "stream",
     "text": [
      "enter the number is 100\n"
     ]
    }
   ],
   "source": [
    "a=int(input(\"input enter number:\"))\n",
    "print(\"enter the number is {}\".format(a))"
   ]
  },
  {
   "cell_type": "code",
   "execution_count": 17,
   "id": "5f1f4940-c2ca-4deb-bcfb-ee481cceb0e3",
   "metadata": {},
   "outputs": [
    {
     "name": "stdin",
     "output_type": "stream",
     "text": [
      "enter the string: python\n"
     ]
    },
    {
     "name": "stdout",
     "output_type": "stream",
     "text": [
      "entered value of string python\n",
      "type of string <class 'str'>\n"
     ]
    }
   ],
   "source": [
    "string=input(\"enter the string:\")\n",
    "print(\"entered value of string\",string)\n",
    "print(\"type of string\",type(string))"
   ]
  },
  {
   "cell_type": "code",
   "execution_count": 19,
   "id": "6a3aae49-b8d1-4520-9b15-921a17020c19",
   "metadata": {},
   "outputs": [
    {
     "name": "stdin",
     "output_type": "stream",
     "text": [
      "enter the number: 30\n"
     ]
    },
    {
     "name": "stdout",
     "output_type": "stream",
     "text": [
      "class strength is : 30\n",
      "type is: <class 'int'>\n"
     ]
    }
   ],
   "source": [
    "b = int(input(\"enter the number:\"))\n",
    "print(\"class strength is :\",b)\n",
    "print(\"type is:\",type(b))"
   ]
  },
  {
   "cell_type": "code",
   "execution_count": null,
   "id": "e44fab60-482a-45f9-9805-b8ecff5cce4d",
   "metadata": {},
   "outputs": [],
   "source": []
  }
 ],
 "metadata": {
  "kernelspec": {
   "display_name": "Python 3",
   "language": "python",
   "name": "python3"
  },
  "language_info": {
   "codemirror_mode": {
    "name": "ipython",
    "version": 3
   },
   "file_extension": ".py",
   "mimetype": "text/x-python",
   "name": "python",
   "nbconvert_exporter": "python",
   "pygments_lexer": "ipython3",
   "version": "3.8.8"
  }
 },
 "nbformat": 4,
 "nbformat_minor": 5
}
