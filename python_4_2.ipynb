{
 "cells": [
  {
   "cell_type": "code",
   "execution_count": 1,
   "id": "a2f50269-9644-4ed2-a867-a8c2758de7fe",
   "metadata": {},
   "outputs": [
    {
     "name": "stdout",
     "output_type": "stream",
     "text": [
      "0\n",
      "1\n",
      "2\n",
      "3\n"
     ]
    }
   ],
   "source": [
    "for i in range(4):\n",
    "    print(i)"
   ]
  },
  {
   "cell_type": "code",
   "execution_count": 2,
   "id": "dfc74397-c46d-4640-ba02-c246a60df30b",
   "metadata": {},
   "outputs": [
    {
     "name": "stdin",
     "output_type": "stream",
     "text": [
      "input number just +ve 5\n"
     ]
    },
    {
     "name": "stdout",
     "output_type": "stream",
     "text": [
      "enter factorial:\n",
      "factorial of number 120\n"
     ]
    }
   ],
   "source": [
    "number=int(input(\"input number just +ve\"))      #factprial program\n",
    "if number<=0:\n",
    "    print(\"invalid number\")\n",
    "else:\n",
    "    print(\"enter factorial:\")\n",
    "fact=1    \n",
    "if number>0:\n",
    "    while number>0:\n",
    "        fact*=number\n",
    "        number-=1\n",
    "    print(\"factorial of number\",fact)\n",
    "    "
   ]
  },
  {
   "cell_type": "code",
   "execution_count": 3,
   "id": "f57f03e3-6c82-4fb0-844e-850a057aff2f",
   "metadata": {},
   "outputs": [
    {
     "name": "stdout",
     "output_type": "stream",
     "text": [
      "10\n",
      "11\n",
      "22\n",
      "33\n",
      "44\n",
      "abc\n"
     ]
    }
   ],
   "source": [
    "l=[10,11,22,33,44,\"abc\"]\n",
    "for i in l:\n",
    "    print(i)"
   ]
  },
  {
   "cell_type": "code",
   "execution_count": 4,
   "id": "e1532bbb-6af2-4ec8-87eb-9add3acf674d",
   "metadata": {},
   "outputs": [
    {
     "name": "stdout",
     "output_type": "stream",
     "text": [
      "sum is: 175\n"
     ]
    }
   ],
   "source": [
    "list=[10,11,22,33,44,55]\n",
    "sum=0\n",
    "for i in list:\n",
    "    sum+=i\n",
    "print(\"sum is:\",sum)    "
   ]
  },
  {
   "cell_type": "code",
   "execution_count": 5,
   "id": "ce4996a7-3f9e-460a-8d74-8259de8dcc3c",
   "metadata": {},
   "outputs": [
    {
     "name": "stdout",
     "output_type": "stream",
     "text": [
      "0\n",
      "1\n",
      "2\n",
      "3\n",
      "4\n",
      "5\n",
      "6\n",
      "7\n",
      "8\n",
      "9\n"
     ]
    }
   ],
   "source": [
    "for i in range(10):\n",
    "    print(i)"
   ]
  },
  {
   "cell_type": "code",
   "execution_count": 6,
   "id": "9ec0e2a2-048c-4d0f-ad94-8921d755465f",
   "metadata": {},
   "outputs": [
    {
     "name": "stdout",
     "output_type": "stream",
     "text": [
      "1\n",
      "9\n",
      "17\n",
      "25\n",
      "33\n",
      "41\n",
      "49\n"
     ]
    }
   ],
   "source": [
    "for i in range(1,50,8):\n",
    "    print(i)"
   ]
  },
  {
   "cell_type": "code",
   "execution_count": 8,
   "id": "e292b735-88f4-4ee4-a4df-ea0692e16eba",
   "metadata": {},
   "outputs": [
    {
     "name": "stdout",
     "output_type": "stream",
     "text": [
      "ram\n",
      "sam\n",
      "lal\n",
      "john\n",
      "else part is print\n"
     ]
    }
   ],
   "source": [
    "l=[\"ram\",\"sam\",\"lal\",\"john\"]\n",
    "for i in l:\n",
    "    print(i)\n",
    "else:\n",
    "    print(\"else part is print\")\n"
   ]
  },
  {
   "cell_type": "code",
   "execution_count": 9,
   "id": "a73e0881-b921-4c43-ac9a-15aac9ed4f76",
   "metadata": {},
   "outputs": [
    {
     "name": "stdout",
     "output_type": "stream",
     "text": [
      "ram\n",
      "sam\n",
      "lal\n",
      "out of the loop\n"
     ]
    }
   ],
   "source": [
    "for i in l:\n",
    "    print(i)\n",
    "    if i==\"lal\":\n",
    "        break\n",
    "else:\n",
    "    print(\"else part\")\n",
    "print(\"out of the loop\")    \n",
    "    "
   ]
  },
  {
   "cell_type": "code",
   "execution_count": 12,
   "id": "dc0cab3c-1ff8-4d33-8b71-c86682579a6b",
   "metadata": {},
   "outputs": [
    {
     "name": "stdin",
     "output_type": "stream",
     "text": [
      "enter the number: 50\n"
     ]
    },
    {
     "name": "stdout",
     "output_type": "stream",
     "text": [
      "list elements of divisor: [1, 2, 5, 10, 25]\n"
     ]
    }
   ],
   "source": [
    "number=int(input(\"enter the number:\"))\n",
    "list=[1]\n",
    "for div in range(2,int(number/2)+1):\n",
    "    if(number%div==0):\n",
    "        list.append(div)\n",
    "print(\"list elements of divisor:\",list)        "
   ]
  },
  {
   "cell_type": "code",
   "execution_count": 13,
   "id": "61269e2f-043a-4a62-8086-238846c884fd",
   "metadata": {},
   "outputs": [
    {
     "name": "stdout",
     "output_type": "stream",
     "text": [
      "sam\n",
      "ram\n",
      "out of loop\n"
     ]
    }
   ],
   "source": [
    "l=[\"sam\",\"ram\",\"cat\",\"feb\"]\n",
    "for i in l:\n",
    "    if i==\"cat\":\n",
    "        break\n",
    "    print(i)\n",
    "else:\n",
    "    print(\"else part\")\n",
    "print(\"out of loop\")    "
   ]
  },
  {
   "cell_type": "code",
   "execution_count": 15,
   "id": "4f79d558-d24b-41c5-90ac-bdaa14bfc644",
   "metadata": {},
   "outputs": [
    {
     "name": "stdout",
     "output_type": "stream",
     "text": [
      "['sam', 'ram', 'cat', 'feb']\n",
      "sam\n",
      "ram\n",
      "feb\n",
      "contine of else part:\n",
      "out of loop in continue\n"
     ]
    }
   ],
   "source": [
    "print(l)\n",
    "for i in l:\n",
    "    if i==\"cat\":\n",
    "        continue\n",
    "    print(i)\n",
    "else:\n",
    "    print(\"contine of else part:\")\n",
    "print(\"out of loop in continue\")    \n",
    "    "
   ]
  },
  {
   "cell_type": "code",
   "execution_count": 1,
   "id": "364b7acf-af93-4e31-a3fa-238333f48c7c",
   "metadata": {},
   "outputs": [
    {
     "name": "stdin",
     "output_type": "stream",
     "text": [
      "enter a number: 25\n"
     ]
    },
    {
     "name": "stdout",
     "output_type": "stream",
     "text": [
      "list of numbers [1, 5]\n"
     ]
    }
   ],
   "source": [
    "number=int(input(\"enter a number:\"))\n",
    "\n",
    "l=[1]\n",
    "for div in range(2,int(number/2)+1):\n",
    "    if number%div==0:\n",
    "        if div in [2,3]:\n",
    "            continue\n",
    "        l.append(div)\n",
    "print(\"list of numbers\",l)      "
   ]
  },
  {
   "cell_type": "code",
   "execution_count": null,
   "id": "24718e73-0421-4a9b-a896-9817d3da47de",
   "metadata": {},
   "outputs": [],
   "source": []
  }
 ],
 "metadata": {
  "kernelspec": {
   "display_name": "Python 3",
   "language": "python",
   "name": "python3"
  },
  "language_info": {
   "codemirror_mode": {
    "name": "ipython",
    "version": 3
   },
   "file_extension": ".py",
   "mimetype": "text/x-python",
   "name": "python",
   "nbconvert_exporter": "python",
   "pygments_lexer": "ipython3",
   "version": "3.8.8"
  }
 },
 "nbformat": 4,
 "nbformat_minor": 5
}
