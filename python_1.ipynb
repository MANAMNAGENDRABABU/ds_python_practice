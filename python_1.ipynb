{
 "cells": [
  {
   "cell_type": "code",
   "execution_count": 1,
   "id": "fe30f28d-147a-499d-a149-847ed9da8774",
   "metadata": {},
   "outputs": [
    {
     "name": "stdout",
     "output_type": "stream",
     "text": [
      "['False', 'None', 'True', 'and', 'as', 'assert', 'async', 'await', 'break', 'class', 'continue', 'def', 'del', 'elif', 'else', 'except', 'finally', 'for', 'from', 'global', 'if', 'import', 'in', 'is', 'lambda', 'nonlocal', 'not', 'or', 'pass', 'raise', 'return', 'try', 'while', 'with', 'yield']\n"
     ]
    }
   ],
   "source": [
    "import keyword\n",
    "print(keyword.kwlist)"
   ]
  },
  {
   "cell_type": "code",
   "execution_count": 2,
   "id": "e86117bc-50dc-4f2e-9864-5c7325a8562d",
   "metadata": {},
   "outputs": [
    {
     "name": "stdout",
     "output_type": "stream",
     "text": [
      "keywords in of python : 35\n"
     ]
    }
   ],
   "source": [
    "print(\"keywords in of python :\", len(keyword.kwlist))"
   ]
  },
  {
   "cell_type": "code",
   "execution_count": 3,
   "id": "fef001b3-df31-49c8-a49f-4d03353424b7",
   "metadata": {},
   "outputs": [
    {
     "name": "stdout",
     "output_type": "stream",
     "text": [
      "90\n"
     ]
    }
   ],
   "source": [
    "a_b=90\n",
    "print(a_b)"
   ]
  },
  {
   "cell_type": "code",
   "execution_count": 4,
   "id": "bd9ab522-b4d0-4dbd-82e3-98a02360f652",
   "metadata": {},
   "outputs": [
    {
     "ename": "SyntaxError",
     "evalue": "invalid syntax (<ipython-input-4-b133728cc575>, line 1)",
     "output_type": "error",
     "traceback": [
      "\u001b[1;36m  File \u001b[1;32m\"<ipython-input-4-b133728cc575>\"\u001b[1;36m, line \u001b[1;32m1\u001b[0m\n\u001b[1;33m    99a_b=20\u001b[0m\n\u001b[1;37m      ^\u001b[0m\n\u001b[1;31mSyntaxError\u001b[0m\u001b[1;31m:\u001b[0m invalid syntax\n"
     ]
    }
   ],
   "source": [
    "99a_b=20\n",
    "print(99a_b)"
   ]
  },
  {
   "cell_type": "code",
   "execution_count": 5,
   "id": "054ed815-2091-4b13-ac87-060fbd117574",
   "metadata": {},
   "outputs": [
    {
     "name": "stdout",
     "output_type": "stream",
     "text": [
      "20\n"
     ]
    }
   ],
   "source": [
    "a_b99=20\n",
    "print(a_b99)"
   ]
  },
  {
   "cell_type": "code",
   "execution_count": 11,
   "id": "869a17a7-6b52-4af7-9059-77717634a836",
   "metadata": {},
   "outputs": [
    {
     "name": "stdout",
     "output_type": "stream",
     "text": [
      "2\n"
     ]
    }
   ],
   "source": [
    "ifa=2\n",
    "print(ifa)"
   ]
  },
  {
   "cell_type": "code",
   "execution_count": 12,
   "id": "8b0890e8-26db-4d01-9f19-2650df68054c",
   "metadata": {},
   "outputs": [
    {
     "ename": "SyntaxError",
     "evalue": "invalid syntax (<ipython-input-12-9f99c04387f3>, line 1)",
     "output_type": "error",
     "traceback": [
      "\u001b[1;36m  File \u001b[1;32m\"<ipython-input-12-9f99c04387f3>\"\u001b[1;36m, line \u001b[1;32m1\u001b[0m\n\u001b[1;33m    if=2\u001b[0m\n\u001b[1;37m      ^\u001b[0m\n\u001b[1;31mSyntaxError\u001b[0m\u001b[1;31m:\u001b[0m invalid syntax\n"
     ]
    }
   ],
   "source": [
    "\n",
    "if=2\n",
    "print(if)\n"
   ]
  },
  {
   "cell_type": "code",
   "execution_count": 13,
   "id": "f8621c02-f0c5-4849-a393-64299e4b7bd4",
   "metadata": {},
   "outputs": [
    {
     "ename": "SyntaxError",
     "evalue": "invalid syntax (<ipython-input-13-d5805eec8b33>, line 2)",
     "output_type": "error",
     "traceback": [
      "\u001b[1;36m  File \u001b[1;32m\"<ipython-input-13-d5805eec8b33>\"\u001b[1;36m, line \u001b[1;32m2\u001b[0m\n\u001b[1;33m    print(hello@)\u001b[0m\n\u001b[1;37m                ^\u001b[0m\n\u001b[1;31mSyntaxError\u001b[0m\u001b[1;31m:\u001b[0m invalid syntax\n"
     ]
    }
   ],
   "source": [
    "hello@=2\n",
    "print(hello@)"
   ]
  },
  {
   "cell_type": "code",
   "execution_count": 14,
   "id": "0a17877f-2330-44a4-a916-99c48e1c96c8",
   "metadata": {},
   "outputs": [
    {
     "name": "stdout",
     "output_type": "stream",
     "text": [
      "1\n",
      "2\n",
      "3\n"
     ]
    }
   ],
   "source": [
    "abc=1\n",
    "print(abc)\n",
    "\n",
    "\n",
    "abc123=2\n",
    "print(abc123)\n",
    "\n",
    "\n",
    "\n",
    "abc_abc=3\n",
    "print(abc_abc)\n"
   ]
  },
  {
   "cell_type": "code",
   "execution_count": 15,
   "id": "d853f6bd-085d-4b35-aa46-734414185e0d",
   "metadata": {},
   "outputs": [
    {
     "name": "stdout",
     "output_type": "stream",
     "text": [
      "python comment\n"
     ]
    }
   ],
   "source": [
    "# this is comment for convey of programme how to run.\n",
    "print(\"python comment\")"
   ]
  },
  {
   "cell_type": "code",
   "execution_count": 17,
   "id": "ada92d9b-aac2-48b4-9581-26ef71ee8f70",
   "metadata": {},
   "outputs": [
    {
     "data": {
      "text/plain": [
       "'\\nhi this is python\\nmulti line comment for also.\\nuse of double quotes \\n'"
      ]
     },
     "execution_count": 17,
     "metadata": {},
     "output_type": "execute_result"
    }
   ],
   "source": [
    "'''\n",
    "hi this is python\n",
    "multi line comment for also.\n",
    "use of double quotes \n",
    "'''"
   ]
  },
  {
   "cell_type": "code",
   "execution_count": 18,
   "id": "8018f316-4c7a-443d-bb34-48edd52b5064",
   "metadata": {},
   "outputs": [
    {
     "data": {
      "text/plain": [
       "'\\nhi this is python\\nmulti line comment for also.\\nuse of single  quotes.\\n'"
      ]
     },
     "execution_count": 18,
     "metadata": {},
     "output_type": "execute_result"
    }
   ],
   "source": [
    "\"\"\"\n",
    "hi this is python\n",
    "multi line comment for also.\n",
    "use of single  quotes.\n",
    "\"\"\""
   ]
  },
  {
   "cell_type": "code",
   "execution_count": 19,
   "id": "80ea978c-7bd6-48ae-8cac-de7ec1ed2b27",
   "metadata": {},
   "outputs": [
    {
     "name": "stdout",
     "output_type": "stream",
     "text": [
      "125\n"
     ]
    }
   ],
   "source": [
    "def cube(num):\n",
    "    \"\"\"\n",
    "    this is doc__ string.\n",
    "    \n",
    "    \"\"\"\n",
    "    return num**3\n",
    "a=cube(5)\n",
    "print(a)"
   ]
  },
  {
   "cell_type": "code",
   "execution_count": 21,
   "id": "6962844c-6b88-4e85-8e3a-66c956a02669",
   "metadata": {},
   "outputs": [
    {
     "name": "stdout",
     "output_type": "stream",
     "text": [
      "\n",
      "    this is doc__ string.\n",
      "    \n",
      "    \n"
     ]
    }
   ],
   "source": [
    "print(cube.__doc__)"
   ]
  },
  {
   "cell_type": "code",
   "execution_count": null,
   "id": "d15acb8d-9c2e-46f6-9461-457f11ff355c",
   "metadata": {},
   "outputs": [],
   "source": [
    "cube     #press shift+tab to view docstring"
   ]
  },
  {
   "cell_type": "code",
   "execution_count": 22,
   "id": "263c3a5c-a83c-4ef8-9853-cd030e22c9e5",
   "metadata": {},
   "outputs": [
    {
     "ename": "IndentationError",
     "evalue": "unexpected indent (<ipython-input-22-bda8cff40d2c>, line 2)",
     "output_type": "error",
     "traceback": [
      "\u001b[1;36m  File \u001b[1;32m\"<ipython-input-22-bda8cff40d2c>\"\u001b[1;36m, line \u001b[1;32m2\u001b[0m\n\u001b[1;33m    variable=3\u001b[0m\n\u001b[1;37m    ^\u001b[0m\n\u001b[1;31mIndentationError\u001b[0m\u001b[1;31m:\u001b[0m unexpected indent\n"
     ]
    }
   ],
   "source": [
    "variabe1=2\n",
    "   variable=3"
   ]
  },
  {
   "cell_type": "code",
   "execution_count": 23,
   "id": "67d914ac-7e6e-40c9-81a5-ad29ebf7a9cb",
   "metadata": {},
   "outputs": [],
   "source": [
    "a=2\n",
    "b=2"
   ]
  },
  {
   "cell_type": "code",
   "execution_count": 24,
   "id": "98720618-c1f7-49c1-a0de-b0f50be578bb",
   "metadata": {},
   "outputs": [
    {
     "name": "stdout",
     "output_type": "stream",
     "text": [
      "0\n",
      "1\n",
      "2\n",
      "3\n",
      "4\n",
      "5\n"
     ]
    }
   ],
   "source": [
    "for i in range(6):\n",
    "    print(i)"
   ]
  },
  {
   "cell_type": "code",
   "execution_count": 25,
   "id": "00e7082d-a0fd-4fc3-b391-8e576889ed03",
   "metadata": {},
   "outputs": [
    {
     "name": "stdout",
     "output_type": "stream",
     "text": [
      "10\n"
     ]
    }
   ],
   "source": [
    "a=10\n",
    "print(a\n",
    "     )"
   ]
  },
  {
   "cell_type": "code",
   "execution_count": 27,
   "id": "3ba28121-e4df-4910-9308-5344e711a354",
   "metadata": {},
   "outputs": [
    {
     "name": "stdout",
     "output_type": "stream",
     "text": [
      "150\n"
     ]
    }
   ],
   "source": [
    "a=10+20+\\\n",
    "   30+40+\\\n",
    "50\n",
    "    \n",
    "print(a)"
   ]
  },
  {
   "cell_type": "code",
   "execution_count": 28,
   "id": "00d38d6e-1aae-4c4d-bbd9-818f6dd85f8e",
   "metadata": {},
   "outputs": [
    {
     "name": "stdout",
     "output_type": "stream",
     "text": [
      "36\n"
     ]
    }
   ],
   "source": [
    "b=(1+2+3+4+\n",
    "  5+6+\n",
    "    7+8)\n",
    "print(b)"
   ]
  },
  {
   "cell_type": "code",
   "execution_count": null,
   "id": "36297b4a-62be-40ed-ad12-a349800f09df",
   "metadata": {},
   "outputs": [],
   "source": []
  }
 ],
 "metadata": {
  "kernelspec": {
   "display_name": "Python 3",
   "language": "python",
   "name": "python3"
  },
  "language_info": {
   "codemirror_mode": {
    "name": "ipython",
    "version": 3
   },
   "file_extension": ".py",
   "mimetype": "text/x-python",
   "name": "python",
   "nbconvert_exporter": "python",
   "pygments_lexer": "ipython3",
   "version": "3.8.8"
  }
 },
 "nbformat": 4,
 "nbformat_minor": 5
}
