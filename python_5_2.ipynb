{
 "cells": [
  {
   "cell_type": "code",
   "execution_count": 1,
   "id": "e21ff32d-2680-4e4f-8846-e0248e7b54b9",
   "metadata": {},
   "outputs": [
    {
     "name": "stdout",
     "output_type": "stream",
     "text": [
      "hsedarParhdnA\n"
     ]
    }
   ],
   "source": [
    "a = \"AndhraPradesh\"\n",
    "reverse = \"\"\n",
    "for i in a:\n",
    "    reverse = i + reverse\n",
    "print(reverse)    \n",
    "    "
   ]
  },
  {
   "cell_type": "code",
   "execution_count": 2,
   "id": "a512c8f3-bdf8-4e3d-82c8-410c992c39fb",
   "metadata": {},
   "outputs": [
    {
     "name": "stdout",
     "output_type": "stream",
     "text": [
      "AndhraPradesh\n",
      "hsedarParhdnA\n"
     ]
    }
   ],
   "source": [
    "print(a)\n",
    "print(reverse)"
   ]
  },
  {
   "cell_type": "code",
   "execution_count": 3,
   "id": "1abeb00b-80b4-45ad-a401-160fb4d783c1",
   "metadata": {},
   "outputs": [
    {
     "name": "stdout",
     "output_type": "stream",
     "text": [
      "andhrapradesh\n",
      "hsedarparhdna\n"
     ]
    }
   ],
   "source": [
    "a=a.lower()\n",
    "reverse=reverse.lower()\n",
    "print(a)\n",
    "print(reverse)"
   ]
  },
  {
   "cell_type": "code",
   "execution_count": 4,
   "id": "38b6a5e2-d446-4995-a348-e2d75be808b4",
   "metadata": {},
   "outputs": [
    {
     "name": "stdout",
     "output_type": "stream",
     "text": [
      "ottherwise not palindrome\n"
     ]
    }
   ],
   "source": [
    "if a==reverse:\n",
    "    print(\"given string is a palindrome\")\n",
    "else:\n",
    "    print(\"ottherwise not palindrome\")"
   ]
  },
  {
   "cell_type": "code",
   "execution_count": 5,
   "id": "bacae3dc-fb9e-4392-8f7a-e970b5825d9e",
   "metadata": {},
   "outputs": [
    {
     "name": "stdout",
     "output_type": "stream",
     "text": [
      "MalayalAm\n"
     ]
    }
   ],
   "source": [
    "a = \"mAlayalaM\"\n",
    "reverse = \"\"\n",
    "for i in a:\n",
    "    reverse = i + reverse\n",
    "print(reverse)    \n",
    "    "
   ]
  },
  {
   "cell_type": "code",
   "execution_count": 6,
   "id": "d2f07b81-d45e-4d5d-a2a5-71b33af7bd6a",
   "metadata": {},
   "outputs": [
    {
     "name": "stdout",
     "output_type": "stream",
     "text": [
      "malayalam\n",
      "malayalam\n"
     ]
    }
   ],
   "source": [
    "a=a.lower()\n",
    "reverse=reverse.lower()\n",
    "print(a)\n",
    "print(reverse)"
   ]
  },
  {
   "cell_type": "code",
   "execution_count": 7,
   "id": "cce9929e-3d13-46c2-8501-0085f87f0361",
   "metadata": {},
   "outputs": [
    {
     "name": "stdout",
     "output_type": "stream",
     "text": [
      "given string is a palindrome\n"
     ]
    }
   ],
   "source": [
    "if a==reverse:\n",
    "    print(\"given string is a palindrome\")\n",
    "else:\n",
    "    print(\"ottherwise not palindrome\")"
   ]
  },
  {
   "cell_type": "code",
   "execution_count": 11,
   "id": "4cbe9da4-78cd-4a17-b923-e62d8ed85e87",
   "metadata": {},
   "outputs": [
    {
     "name": "stdout",
     "output_type": "stream",
     "text": [
      "['this', 'is', 'how', 'to', 'works', 'reverse', 'sorting', 'works']\n",
      "['works', 'works', 'to', 'this', 'sorting', 'reverse', 'is', 'how']\n"
     ]
    }
   ],
   "source": [
    "a= \"this is how to works reverse sorting works\"\n",
    "b=a.split()\n",
    "print(b)\n",
    "b.sort(reverse=True)\n",
    "print(b)"
   ]
  },
  {
   "cell_type": "code",
   "execution_count": 18,
   "id": "856cf3d5-d36a-449d-a257-077b98241000",
   "metadata": {},
   "outputs": [
    {
     "name": "stdout",
     "output_type": "stream",
     "text": [
      " works   works   to   this   sorting   reverse   is   how   \n"
     ]
    }
   ],
   "source": [
    "revstring = \" \"\n",
    "for word in b:\n",
    "    revstring+=word+\"   \"\n",
    "print(revstring)    \n",
    "    "
   ]
  },
  {
   "cell_type": "code",
   "execution_count": 19,
   "id": "022e29a8-7f69-444d-957c-0fdf0edcac76",
   "metadata": {},
   "outputs": [
    {
     "name": "stdout",
     "output_type": "stream",
     "text": [
      "single\n",
      "double\n",
      "triple\n"
     ]
    }
   ],
   "source": [
    "string='single'\n",
    "print(string)\n",
    "string=\"double\"\n",
    "print(string)\n",
    "\n",
    "string='''triple'''\n",
    "print(string)\n"
   ]
  },
  {
   "cell_type": "code",
   "execution_count": 20,
   "id": "1126118f-b5de-42a9-82d6-7cbfe17d7904",
   "metadata": {},
   "outputs": [
    {
     "name": "stdout",
     "output_type": "stream",
     "text": [
      "p\n",
      "y\n",
      "n\n",
      "ython\n"
     ]
    }
   ],
   "source": [
    "a=\"python\"\n",
    "print(a[0])\n",
    "print(a[1])\n",
    "print(a[-1])\n",
    "print(a[1:6])"
   ]
  },
  {
   "cell_type": "code",
   "execution_count": 21,
   "id": "81066ceb-f162-4127-87b2-d068681bf2a7",
   "metadata": {},
   "outputs": [
    {
     "ename": "IndexError",
     "evalue": "string index out of range",
     "output_type": "error",
     "traceback": [
      "\u001b[1;31m---------------------------------------------------------------------------\u001b[0m",
      "\u001b[1;31mIndexError\u001b[0m                                Traceback (most recent call last)",
      "\u001b[1;32m<ipython-input-21-cf2ab64b63a6>\u001b[0m in \u001b[0;36m<module>\u001b[1;34m\u001b[0m\n\u001b[1;32m----> 1\u001b[1;33m \u001b[0mprint\u001b[0m\u001b[1;33m(\u001b[0m\u001b[0ma\u001b[0m\u001b[1;33m[\u001b[0m\u001b[1;36m25\u001b[0m\u001b[1;33m]\u001b[0m\u001b[1;33m)\u001b[0m\u001b[1;33m\u001b[0m\u001b[1;33m\u001b[0m\u001b[0m\n\u001b[0m\u001b[0;32m      2\u001b[0m \u001b[0mprint\u001b[0m\u001b[1;33m(\u001b[0m\u001b[0ma\u001b[0m\u001b[1;33m[\u001b[0m\u001b[1;36m2.5\u001b[0m\u001b[1;33m]\u001b[0m\u001b[1;33m)\u001b[0m\u001b[1;33m\u001b[0m\u001b[1;33m\u001b[0m\u001b[0m\n",
      "\u001b[1;31mIndexError\u001b[0m: string index out of range"
     ]
    }
   ],
   "source": [
    "print(a[25])\n",
    "print(a[2.5])"
   ]
  },
  {
   "cell_type": "code",
   "execution_count": 22,
   "id": "6362474c-b9ca-4adc-9a23-79b056fd8d98",
   "metadata": {},
   "outputs": [
    {
     "ename": "TypeError",
     "evalue": "'str' object does not support item assignment",
     "output_type": "error",
     "traceback": [
      "\u001b[1;31m---------------------------------------------------------------------------\u001b[0m",
      "\u001b[1;31mTypeError\u001b[0m                                 Traceback (most recent call last)",
      "\u001b[1;32m<ipython-input-22-d251c0f04e17>\u001b[0m in \u001b[0;36m<module>\u001b[1;34m\u001b[0m\n\u001b[1;32m----> 1\u001b[1;33m \u001b[0ma\u001b[0m\u001b[1;33m[\u001b[0m\u001b[1;36m1\u001b[0m\u001b[1;33m]\u001b[0m \u001b[1;33m=\u001b[0m \u001b[1;34m\"h\"\u001b[0m\u001b[1;33m\u001b[0m\u001b[1;33m\u001b[0m\u001b[0m\n\u001b[0m",
      "\u001b[1;31mTypeError\u001b[0m: 'str' object does not support item assignment"
     ]
    }
   ],
   "source": [
    "a[1] = \"h\""
   ]
  },
  {
   "cell_type": "code",
   "execution_count": 23,
   "id": "5e874834-a50e-41f0-8f7b-8e32c73a1415",
   "metadata": {},
   "outputs": [],
   "source": [
    "del a"
   ]
  },
  {
   "cell_type": "code",
   "execution_count": 24,
   "id": "9edbe13b-4866-4d5b-8dc4-e25bd34954dd",
   "metadata": {},
   "outputs": [
    {
     "ename": "NameError",
     "evalue": "name 'a' is not defined",
     "output_type": "error",
     "traceback": [
      "\u001b[1;31m---------------------------------------------------------------------------\u001b[0m",
      "\u001b[1;31mNameError\u001b[0m                                 Traceback (most recent call last)",
      "\u001b[1;32m<ipython-input-24-bca0e2660b9f>\u001b[0m in \u001b[0;36m<module>\u001b[1;34m\u001b[0m\n\u001b[1;32m----> 1\u001b[1;33m \u001b[0mprint\u001b[0m\u001b[1;33m(\u001b[0m\u001b[0ma\u001b[0m\u001b[1;33m)\u001b[0m\u001b[1;33m\u001b[0m\u001b[1;33m\u001b[0m\u001b[0m\n\u001b[0m",
      "\u001b[1;31mNameError\u001b[0m: name 'a' is not defined"
     ]
    }
   ],
   "source": [
    "print(a)"
   ]
  },
  {
   "cell_type": "code",
   "execution_count": 26,
   "id": "614ca206-0c26-40a9-9879-1f47b30a95d2",
   "metadata": {},
   "outputs": [
    {
     "name": "stdout",
     "output_type": "stream",
     "text": [
      "python  PYTHON\n"
     ]
    }
   ],
   "source": [
    "a= \"python  \"\n",
    "b= \"PYTHON\"\n",
    "print(a+b)"
   ]
  },
  {
   "cell_type": "code",
   "execution_count": 27,
   "id": "24cd3a7c-1648-48a3-b41f-e5eec950db23",
   "metadata": {},
   "outputs": [
    {
     "name": "stdout",
     "output_type": "stream",
     "text": [
      "python  python  python  python  python  \n"
     ]
    }
   ],
   "source": [
    "print(a*5)"
   ]
  },
  {
   "cell_type": "code",
   "execution_count": 29,
   "id": "4d05629c-5dcb-4fd1-97fd-c8dbad16f792",
   "metadata": {},
   "outputs": [
    {
     "name": "stdout",
     "output_type": "stream",
     "text": [
      "charcount of in a: p is   4\n"
     ]
    }
   ],
   "source": [
    "a= \"python python of both same pp\"\n",
    "charcount=0\n",
    "for i in a:\n",
    "    if i== \"p\":\n",
    "        charcount+=1\n",
    "print(\"charcount of in a: p is  \",  charcount)        "
   ]
  },
  {
   "cell_type": "code",
   "execution_count": 30,
   "id": "76a7d9a1-94cd-403c-9b11-4a14c14104e1",
   "metadata": {},
   "outputs": [
    {
     "name": "stdout",
     "output_type": "stream",
     "text": [
      "True\n"
     ]
    }
   ],
   "source": [
    "print( \"o\" in a)"
   ]
  },
  {
   "cell_type": "code",
   "execution_count": 31,
   "id": "7f276028-0fe9-4860-931a-eb9cd2bb27fe",
   "metadata": {},
   "outputs": [
    {
     "name": "stdout",
     "output_type": "stream",
     "text": [
      "True\n"
     ]
    }
   ],
   "source": [
    "print(\"n \" in a)"
   ]
  },
  {
   "cell_type": "code",
   "execution_count": 33,
   "id": "2ffb39ad-0306-4594-a4d1-d05022b7f928",
   "metadata": {},
   "outputs": [
    {
     "name": "stdout",
     "output_type": "stream",
     "text": [
      "False\n",
      "True\n"
     ]
    }
   ],
   "source": [
    "print(\"y \" in a)\n",
    "print(\"y\" in a)"
   ]
  },
  {
   "cell_type": "code",
   "execution_count": 39,
   "id": "090a3344-d2d2-469a-b5c4-e3e6c5057a3f",
   "metadata": {},
   "outputs": [
    {
     "name": "stdout",
     "output_type": "stream",
     "text": [
      "pthonPYTHON\n",
      "pthonpython\n",
      "PTHONPYTHON\n",
      "pthonPYTHON\n"
     ]
    }
   ],
   "source": [
    "a=\"pthonPYTHON\"\n",
    "print(a)\n",
    "print(a.lower())\n",
    "\n",
    "print(a.upper())\n",
    "print(a)"
   ]
  },
  {
   "cell_type": "code",
   "execution_count": 37,
   "id": "f376805c-b1bc-4dd4-b437-2b4cdc39525b",
   "metadata": {},
   "outputs": [
    {
     "name": "stdout",
     "output_type": "stream",
     "text": [
      "PYTHONPYTHON\n"
     ]
    }
   ],
   "source": [
    "print(\"pythonPYTHON\".upper())\n"
   ]
  },
  {
   "cell_type": "code",
   "execution_count": 43,
   "id": "e9c38ec6-c2da-4288-b5b4-1018c81c2402",
   "metadata": {},
   "outputs": [
    {
     "name": "stdout",
     "output_type": "stream",
     "text": [
      "['split', 'this', 'line', 'into', 'a', 'list']\n",
      "split this line into a list\n"
     ]
    }
   ],
   "source": [
    "a=\"split this line into a list\"\n",
    "b=a.split()\n",
    "print(b)\n",
    "print(a)"
   ]
  },
  {
   "cell_type": "code",
   "execution_count": 45,
   "id": "46055937-1d2a-4ccb-80c8-f321fe95b3b0",
   "metadata": {},
   "outputs": [
    {
     "name": "stdout",
     "output_type": "stream",
     "text": [
      "None\n",
      "[1, 2, 3, 11, 22]\n"
     ]
    }
   ],
   "source": [
    "a=[1,2,22,11,3]\n",
    "b=a.sort()\n",
    "print(b)\n",
    "print(a)"
   ]
  },
  {
   "cell_type": "code",
   "execution_count": 47,
   "id": "fdca3e25-2a49-4a4b-ae99-08c1b9cace11",
   "metadata": {},
   "outputs": [
    {
     "name": "stdout",
     "output_type": "stream",
     "text": [
      "split     this     line     into     a     list\n"
     ]
    }
   ],
   "source": [
    "c=\"     \".join(['split', 'this', 'line', 'into', 'a', 'list'])\n",
    "print(c)"
   ]
  },
  {
   "cell_type": "code",
   "execution_count": 49,
   "id": "8ee4b570-7948-4dbb-be8a-0eb8eabcedea",
   "metadata": {},
   "outputs": [
    {
     "name": "stdout",
     "output_type": "stream",
     "text": [
      "3\n",
      "1\n"
     ]
    }
   ],
   "source": [
    "print(c.find(\"it\"))\n",
    "e=c.find(\"p\")\n",
    "print(e)"
   ]
  },
  {
   "cell_type": "code",
   "execution_count": 52,
   "id": "1cbbe964-3d45-4c3d-b390-4d33ad7ad1aa",
   "metadata": {},
   "outputs": [
    {
     "name": "stdout",
     "output_type": "stream",
     "text": [
      "PYTHON PYTHON\n",
      "python PYTHON\n"
     ]
    }
   ],
   "source": [
    "a = \"python PYTHON\"\n",
    "b=a.replace(\"python\",\"PYTHON\")\n",
    "print(b)\n",
    "print(a)"
   ]
  },
  {
   "cell_type": "code",
   "execution_count": null,
   "id": "ace985b4-6a26-4cff-ae88-f6be891a1183",
   "metadata": {},
   "outputs": [],
   "source": []
  }
 ],
 "metadata": {
  "kernelspec": {
   "display_name": "Python 3",
   "language": "python",
   "name": "python3"
  },
  "language_info": {
   "codemirror_mode": {
    "name": "ipython",
    "version": 3
   },
   "file_extension": ".py",
   "mimetype": "text/x-python",
   "name": "python",
   "nbconvert_exporter": "python",
   "pygments_lexer": "ipython3",
   "version": "3.8.8"
  }
 },
 "nbformat": 4,
 "nbformat_minor": 5
}
