{
 "cells": [
  {
   "cell_type": "code",
   "execution_count": 1,
   "id": "d1a5dd33-bc80-47b7-ab80-0e66d90a3ccd",
   "metadata": {},
   "outputs": [
    {
     "name": "stdout",
     "output_type": "stream",
     "text": [
      "10 2.22 naresh\n"
     ]
    }
   ],
   "source": [
    "integer=10\n",
    "floatn=2.22\n",
    "string=\"naresh\"\n",
    "print(integer,floatn,string)"
   ]
  },
  {
   "cell_type": "code",
   "execution_count": 3,
   "id": "9653c709-ca8f-43ed-a474-1d2c00cba211",
   "metadata": {},
   "outputs": [
    {
     "name": "stdout",
     "output_type": "stream",
     "text": [
      "20 ramu 11.111\n"
     ]
    }
   ],
   "source": [
    "i,d,s=20,11.111,\"ramu\"\n",
    "print(i,s,d)"
   ]
  },
  {
   "cell_type": "code",
   "execution_count": 5,
   "id": "da9d8052-aafa-45b3-ac5e-00122c5fac51",
   "metadata": {},
   "outputs": [
    {
     "name": "stdout",
     "output_type": "stream",
     "text": [
      "all vlaues assigned to same  all vlaues assigned to same  all vlaues assigned to same \n"
     ]
    }
   ],
   "source": [
    "a=b=c=\"all vlaues assigned to same \"\n",
    "print(a,b,c)"
   ]
  },
  {
   "cell_type": "code",
   "execution_count": 6,
   "id": "6894ee06-02b1-454c-be66-bb667c7ff6aa",
   "metadata": {},
   "outputs": [
    {
     "name": "stdout",
     "output_type": "stream",
     "text": [
      "140716034959760\n",
      "1784086311280\n"
     ]
    }
   ],
   "source": [
    "print(id(i))\n",
    "print(id(d))"
   ]
  },
  {
   "cell_type": "code",
   "execution_count": 11,
   "id": "9d6824f7-02d9-4bbf-8b6e-9c0c27677b61",
   "metadata": {},
   "outputs": [
    {
     "name": "stdout",
     "output_type": "stream",
     "text": [
      "140716034959440\n",
      "140716034959440\n"
     ]
    }
   ],
   "source": [
    "a=10\n",
    "b=10\n",
    "print(id(a))\n",
    "print(id(b))"
   ]
  },
  {
   "cell_type": "code",
   "execution_count": 12,
   "id": "0afa9ae7-ce75-4286-9e06-0d48bb421119",
   "metadata": {},
   "outputs": [
    {
     "name": "stdout",
     "output_type": "stream",
     "text": [
      "<class 'int'>\n"
     ]
    }
   ],
   "source": [
    "a=10\n",
    "print(type(a))"
   ]
  },
  {
   "cell_type": "code",
   "execution_count": 13,
   "id": "7b377765-d6da-4c39-8311-f99a65a0e0dd",
   "metadata": {},
   "outputs": [
    {
     "name": "stdout",
     "output_type": "stream",
     "text": [
      "<class 'int'>\n"
     ]
    }
   ],
   "source": [
    "b=20\n",
    "print(type(b))"
   ]
  },
  {
   "cell_type": "code",
   "execution_count": 15,
   "id": "f445de46-51b1-40cf-93a1-d98b415f6504",
   "metadata": {},
   "outputs": [
    {
     "name": "stdout",
     "output_type": "stream",
     "text": [
      "<class 'complex'> : True\n"
     ]
    }
   ],
   "source": [
    "c=1+2j\n",
    "print(type(c),':',isinstance(c,complex))"
   ]
  },
  {
   "cell_type": "code",
   "execution_count": 16,
   "id": "18e3b61f-6a25-42dd-80d5-f5d3ce13fa4a",
   "metadata": {},
   "outputs": [
    {
     "name": "stdout",
     "output_type": "stream",
     "text": [
      "type of <class 'bool'>\n"
     ]
    }
   ],
   "source": [
    "booll=False\n",
    "print(\"type of\",type(booll))"
   ]
  },
  {
   "cell_type": "code",
   "execution_count": 18,
   "id": "ed4e0aad-e791-4e24-93fe-5db2e61c3336",
   "metadata": {},
   "outputs": [
    {
     "name": "stdout",
     "output_type": "stream",
     "text": [
      "string variable is: i am python\n",
      "first char is: i\n"
     ]
    }
   ],
   "source": [
    "stri=\"i am python\"\n",
    "print(\"string variable is:\",stri)\n",
    "print(\"first char is:\",stri[0])"
   ]
  },
  {
   "cell_type": "code",
   "execution_count": 19,
   "id": "ba6db0e4-03c9-4cfa-aee0-08d09a719ea1",
   "metadata": {},
   "outputs": [
    {
     "name": "stdout",
     "output_type": "stream",
     "text": [
      "i am python\n",
      " am pyt\n",
      "i am p\n",
      "python\n"
     ]
    }
   ],
   "source": [
    "print(stri[:])\n",
    "print(stri[1:8])\n",
    "print(stri[:6])\n",
    "print(stri[5:])"
   ]
  },
  {
   "cell_type": "code",
   "execution_count": 20,
   "id": "70ac1780-740c-4636-992c-f942e4e4ae05",
   "metadata": {},
   "outputs": [
    {
     "name": "stdout",
     "output_type": "stream",
     "text": [
      "[1, 2, 3, 4, 'rama']\n"
     ]
    }
   ],
   "source": [
    "list=[1,2,3,4,\"rama\"]\n",
    "print(list)"
   ]
  },
  {
   "cell_type": "code",
   "execution_count": 21,
   "id": "30695d32-6561-4caa-9b21-ff5f1a57c080",
   "metadata": {},
   "outputs": [
    {
     "name": "stdout",
     "output_type": "stream",
     "text": [
      "3\n"
     ]
    }
   ],
   "source": [
    "print(list[2])"
   ]
  },
  {
   "cell_type": "code",
   "execution_count": 23,
   "id": "4519a83a-d7ae-4f10-8fc9-1c88349dca91",
   "metadata": {},
   "outputs": [
    {
     "name": "stdout",
     "output_type": "stream",
     "text": [
      "[1, 2, 'second', 4, 'rama']\n"
     ]
    }
   ],
   "source": [
    "list[2]=\"second\"\n",
    "print(list)"
   ]
  },
  {
   "cell_type": "code",
   "execution_count": 31,
   "id": "158d4a14-d447-43d4-8693-3c841918ddcc",
   "metadata": {},
   "outputs": [
    {
     "name": "stdout",
     "output_type": "stream",
     "text": [
      "[1, 2, 3, 4, 5, 6, 7]\n",
      "[1, 2, 3, 4, 5, 6, 7, 8]\n",
      "[1, 2, 3, 4, 5, 6, 7]\n"
     ]
    }
   ],
   "source": [
    "a=[1,2,3,4,5,6,7]\n",
    "print(a)\n",
    "a.append(8)\n",
    "print(a)\n",
    "a.remove(8)\n",
    "print(a)\n"
   ]
  },
  {
   "cell_type": "code",
   "execution_count": 32,
   "id": "d43c3369-29f2-4885-9776-4c2774815013",
   "metadata": {},
   "outputs": [
    {
     "name": "stdout",
     "output_type": "stream",
     "text": [
      "[1, 2, 3, 4, 5, 6, 7]\n",
      "[1, 2, 3, 4, 5, 6]\n"
     ]
    }
   ],
   "source": [
    "print(a)\n",
    "a.pop(6)\n",
    "print(a)"
   ]
  },
  {
   "cell_type": "code",
   "execution_count": 33,
   "id": "5eda38b4-d43f-4522-b36a-4ecae5256616",
   "metadata": {},
   "outputs": [
    {
     "name": "stdout",
     "output_type": "stream",
     "text": [
      "(1, 2, 3, 4, 5, 'tuple')\n",
      "tuple\n"
     ]
    }
   ],
   "source": [
    "t=(1,2,3,4,5,\"tuple\")\n",
    "print(t)\n",
    "print(t[5])"
   ]
  },
  {
   "cell_type": "code",
   "execution_count": 34,
   "id": "2444e092-df1b-4219-8147-dc05140d3b90",
   "metadata": {},
   "outputs": [
    {
     "ename": "TypeError",
     "evalue": "'tuple' object does not support item assignment",
     "output_type": "error",
     "traceback": [
      "\u001b[1;31m---------------------------------------------------------------------------\u001b[0m",
      "\u001b[1;31mTypeError\u001b[0m                                 Traceback (most recent call last)",
      "\u001b[1;32m<ipython-input-34-aa44ea193e2b>\u001b[0m in \u001b[0;36m<module>\u001b[1;34m\u001b[0m\n\u001b[1;32m----> 1\u001b[1;33m \u001b[0mt\u001b[0m\u001b[1;33m[\u001b[0m\u001b[1;36m5\u001b[0m\u001b[1;33m]\u001b[0m\u001b[1;33m=\u001b[0m\u001b[1;34m\"tuple change\"\u001b[0m\u001b[1;33m\u001b[0m\u001b[1;33m\u001b[0m\u001b[0m\n\u001b[0m",
      "\u001b[1;31mTypeError\u001b[0m: 'tuple' object does not support item assignment"
     ]
    }
   ],
   "source": [
    "t[5]=\"tuple change\""
   ]
  },
  {
   "cell_type": "code",
   "execution_count": 35,
   "id": "f682ca4d-1754-4fab-8849-5ddae86c3824",
   "metadata": {},
   "outputs": [
    {
     "name": "stdout",
     "output_type": "stream",
     "text": [
      "{1, 2, 3, 4, 5}\n"
     ]
    }
   ],
   "source": [
    "s={1,2,3,4,5}\n",
    "print(s)"
   ]
  },
  {
   "cell_type": "code",
   "execution_count": 36,
   "id": "96d3f0d9-1f6e-4a8a-96d3-9032c32a98b0",
   "metadata": {},
   "outputs": [
    {
     "name": "stdout",
     "output_type": "stream",
     "text": [
      "{1, 2, 3, 4}\n"
     ]
    }
   ],
   "source": [
    "s={1,1,1,2,2,2,3,3,3,4,4,4}\n",
    "print(s)"
   ]
  },
  {
   "cell_type": "code",
   "execution_count": 37,
   "id": "97c7ec21-e677-40e2-bef2-916be025c81b",
   "metadata": {},
   "outputs": [
    {
     "name": "stdout",
     "output_type": "stream",
     "text": [
      "<class 'set'>\n"
     ]
    }
   ],
   "source": [
    "print(type(s))"
   ]
  },
  {
   "cell_type": "code",
   "execution_count": 38,
   "id": "b6e0b67f-0fae-4622-9ad1-9dc2bf5f87ec",
   "metadata": {},
   "outputs": [
    {
     "name": "stdout",
     "output_type": "stream",
     "text": [
      "{1: 'one', 2: 'two', 3: 'three'}\n"
     ]
    }
   ],
   "source": [
    "dict={1:\"one\",2:\"two\",3:\"three\"}\n",
    "print(dict)"
   ]
  },
  {
   "cell_type": "code",
   "execution_count": 39,
   "id": "7b44b3dc-9500-464e-8118-6cc6c3f1098e",
   "metadata": {},
   "outputs": [
    {
     "name": "stdout",
     "output_type": "stream",
     "text": [
      "two\n"
     ]
    }
   ],
   "source": [
    "print(dict[2])"
   ]
  },
  {
   "cell_type": "code",
   "execution_count": 41,
   "id": "14d9388b-4cd0-46b2-b0fa-7b6db5487899",
   "metadata": {},
   "outputs": [
    {
     "name": "stdout",
     "output_type": "stream",
     "text": [
      "two.2.2\n",
      "{1: 'one', 2: 'two.2.2', 3: 'three'}\n"
     ]
    }
   ],
   "source": [
    "dict[2]=\"two.2.2\"\n",
    "print(dict[2])\n",
    "print(dict)"
   ]
  },
  {
   "cell_type": "code",
   "execution_count": 42,
   "id": "b72a3533-43f5-47b1-9a09-0f4512b40285",
   "metadata": {},
   "outputs": [
    {
     "name": "stdout",
     "output_type": "stream",
     "text": [
      "{1: 'one', 2: 'two.2.2', 3: 'three', 4: 'four'}\n"
     ]
    }
   ],
   "source": [
    "dict[4]=\"four\"\n",
    "print(dict)"
   ]
  },
  {
   "cell_type": "code",
   "execution_count": 43,
   "id": "9b7a1166-c17d-4197-8d64-7cbb1872edc6",
   "metadata": {},
   "outputs": [
    {
     "name": "stdout",
     "output_type": "stream",
     "text": [
      "{1: 'one', 2: 'two.2.2', 3: 'three'}\n"
     ]
    }
   ],
   "source": [
    "del dict[4]\n",
    "print(dict)"
   ]
  },
  {
   "cell_type": "code",
   "execution_count": 44,
   "id": "e2d901b6-f682-4bf7-973f-3f4874f63be1",
   "metadata": {},
   "outputs": [
    {
     "data": {
      "text/plain": [
       "2"
      ]
     },
     "execution_count": 44,
     "metadata": {},
     "output_type": "execute_result"
    }
   ],
   "source": [
    "int(2.2)"
   ]
  },
  {
   "cell_type": "code",
   "execution_count": 45,
   "id": "72cf374b-89b6-405d-93fe-395bb9c738b6",
   "metadata": {},
   "outputs": [
    {
     "data": {
      "text/plain": [
       "2.0"
      ]
     },
     "execution_count": 45,
     "metadata": {},
     "output_type": "execute_result"
    }
   ],
   "source": [
    "float(2)"
   ]
  },
  {
   "cell_type": "code",
   "execution_count": 46,
   "id": "9fd77e87-7306-4e50-8f04-813fbc404164",
   "metadata": {},
   "outputs": [
    {
     "data": {
      "text/plain": [
       "'2'"
      ]
     },
     "execution_count": 46,
     "metadata": {},
     "output_type": "execute_result"
    }
   ],
   "source": [
    "str(2)"
   ]
  },
  {
   "cell_type": "code",
   "execution_count": 47,
   "id": "88c7ea0f-001c-4662-a975-db5880bafca5",
   "metadata": {},
   "outputs": [
    {
     "data": {
      "text/plain": [
       "'2.2'"
      ]
     },
     "execution_count": 47,
     "metadata": {},
     "output_type": "execute_result"
    }
   ],
   "source": [
    "str(2.2)"
   ]
  },
  {
   "cell_type": "code",
   "execution_count": 48,
   "id": "58782891-59b7-45d7-8d22-c5da80c684aa",
   "metadata": {},
   "outputs": [
    {
     "ename": "ValueError",
     "evalue": "invalid literal for int() with base 10: '2.2'",
     "output_type": "error",
     "traceback": [
      "\u001b[1;31m---------------------------------------------------------------------------\u001b[0m",
      "\u001b[1;31mValueError\u001b[0m                                Traceback (most recent call last)",
      "\u001b[1;32m<ipython-input-48-ef2e3e077a0f>\u001b[0m in \u001b[0;36m<module>\u001b[1;34m\u001b[0m\n\u001b[1;32m----> 1\u001b[1;33m \u001b[0mint\u001b[0m\u001b[1;33m(\u001b[0m\u001b[1;34m\"2.2\"\u001b[0m\u001b[1;33m)\u001b[0m\u001b[1;33m\u001b[0m\u001b[1;33m\u001b[0m\u001b[0m\n\u001b[0m",
      "\u001b[1;31mValueError\u001b[0m: invalid literal for int() with base 10: '2.2'"
     ]
    }
   ],
   "source": [
    "int(\"2.2\")"
   ]
  },
  {
   "cell_type": "code",
   "execution_count": 50,
   "id": "9ab734c1-1bf9-4d39-bd93-01257be7d52a",
   "metadata": {},
   "outputs": [
    {
     "data": {
      "text/plain": [
       "2"
      ]
     },
     "execution_count": 50,
     "metadata": {},
     "output_type": "execute_result"
    }
   ],
   "source": [
    "int(float(\"2.2\"))"
   ]
  },
  {
   "cell_type": "code",
   "execution_count": 51,
   "id": "8b0a9b69-9830-4a26-9ef9-98530ba697dc",
   "metadata": {},
   "outputs": [
    {
     "data": {
      "text/plain": [
       "3.3"
      ]
     },
     "execution_count": 51,
     "metadata": {},
     "output_type": "execute_result"
    }
   ],
   "source": [
    "float(\"3.3\")"
   ]
  },
  {
   "cell_type": "code",
   "execution_count": 52,
   "id": "4893c3f4-1889-4d29-9293-e077151fdda2",
   "metadata": {},
   "outputs": [
    {
     "ename": "TypeError",
     "evalue": "can only concatenate str (not \"int\") to str",
     "output_type": "error",
     "traceback": [
      "\u001b[1;31m---------------------------------------------------------------------------\u001b[0m",
      "\u001b[1;31mTypeError\u001b[0m                                 Traceback (most recent call last)",
      "\u001b[1;32m<ipython-input-52-b48c3f000bbf>\u001b[0m in \u001b[0;36m<module>\u001b[1;34m\u001b[0m\n\u001b[1;32m----> 1\u001b[1;33m \u001b[0mstri\u001b[0m\u001b[1;33m=\u001b[0m\u001b[1;34m\"a\"\u001b[0m\u001b[1;33m+\u001b[0m\u001b[1;36m2\u001b[0m\u001b[1;33m+\u001b[0m\u001b[1;34m\"b\"\u001b[0m\u001b[1;33m\u001b[0m\u001b[1;33m\u001b[0m\u001b[0m\n\u001b[0m",
      "\u001b[1;31mTypeError\u001b[0m: can only concatenate str (not \"int\") to str"
     ]
    }
   ],
   "source": [
    "stri=\"a\"+2+\"b\""
   ]
  },
  {
   "cell_type": "code",
   "execution_count": 54,
   "id": "6750be08-d20a-4a9e-a0d8-da521e717054",
   "metadata": {},
   "outputs": [
    {
     "name": "stdout",
     "output_type": "stream",
     "text": [
      "a2b\n"
     ]
    }
   ],
   "source": [
    "stri=\"a\"+\"2\"+\"b\"\n",
    "print(stri)"
   ]
  },
  {
   "cell_type": "code",
   "execution_count": 55,
   "id": "5a7ce6ce-d98c-4dd5-8dd8-32c45583f46e",
   "metadata": {},
   "outputs": [
    {
     "name": "stdout",
     "output_type": "stream",
     "text": [
      "a2b4\n"
     ]
    }
   ],
   "source": [
    "stri=stri+str(4)\n",
    "print(stri)"
   ]
  },
  {
   "cell_type": "code",
   "execution_count": 56,
   "id": "7e529ff9-9095-4d30-9518-ae28e0363196",
   "metadata": {},
   "outputs": [
    {
     "name": "stdout",
     "output_type": "stream",
     "text": [
      "[1, 2, 3, 4, 5]\n",
      "<class 'list'>\n",
      "<class 'set'>\n",
      "{1, 2, 3, 4, 5}\n"
     ]
    }
   ],
   "source": [
    "list=[1,2,3,4,5]\n",
    "print(list)\n",
    "print(type(list))\n",
    "set=set(list)\n",
    "print(type(set))\n",
    "print(set)"
   ]
  },
  {
   "cell_type": "code",
   "execution_count": 59,
   "id": "9deff7f8-f501-4c9f-81c4-6930dd613d3a",
   "metadata": {},
   "outputs": [
    {
     "name": "stdout",
     "output_type": "stream",
     "text": [
      "<class 'str'>\n"
     ]
    },
    {
     "ename": "TypeError",
     "evalue": "'list' object is not callable",
     "output_type": "error",
     "traceback": [
      "\u001b[1;31m---------------------------------------------------------------------------\u001b[0m",
      "\u001b[1;31mTypeError\u001b[0m                                 Traceback (most recent call last)",
      "\u001b[1;32m<ipython-input-59-eab70304b36e>\u001b[0m in \u001b[0;36m<module>\u001b[1;34m\u001b[0m\n\u001b[0;32m      1\u001b[0m \u001b[0mstring\u001b[0m\u001b[1;33m=\u001b[0m\u001b[1;34m\"this is string to list\"\u001b[0m\u001b[1;33m\u001b[0m\u001b[1;33m\u001b[0m\u001b[0m\n\u001b[0;32m      2\u001b[0m \u001b[0mprint\u001b[0m\u001b[1;33m(\u001b[0m\u001b[0mtype\u001b[0m\u001b[1;33m(\u001b[0m\u001b[0mstring\u001b[0m\u001b[1;33m)\u001b[0m\u001b[1;33m)\u001b[0m\u001b[1;33m\u001b[0m\u001b[1;33m\u001b[0m\u001b[0m\n\u001b[1;32m----> 3\u001b[1;33m \u001b[0mstol\u001b[0m \u001b[1;33m=\u001b[0m \u001b[0mlist\u001b[0m\u001b[1;33m(\u001b[0m\u001b[0mstring\u001b[0m\u001b[1;33m)\u001b[0m\u001b[1;33m\u001b[0m\u001b[1;33m\u001b[0m\u001b[0m\n\u001b[0m\u001b[0;32m      4\u001b[0m \u001b[0mprint\u001b[0m\u001b[1;33m(\u001b[0m\u001b[0mtype\u001b[0m\u001b[1;33m(\u001b[0m\u001b[0mstol\u001b[0m\u001b[1;33m)\u001b[0m\u001b[1;33m)\u001b[0m\u001b[1;33m\u001b[0m\u001b[1;33m\u001b[0m\u001b[0m\n\u001b[0;32m      5\u001b[0m \u001b[0mprint\u001b[0m\u001b[1;33m(\u001b[0m\u001b[0mstol\u001b[0m\u001b[1;33m)\u001b[0m\u001b[1;33m\u001b[0m\u001b[1;33m\u001b[0m\u001b[0m\n",
      "\u001b[1;31mTypeError\u001b[0m: 'list' object is not callable"
     ]
    }
   ],
   "source": [
    "string=\"this is string to list\"   #doubt\n",
    "print(type(string))\n",
    "stol = list(string)\n",
    "print(type(stol))\n",
    "print(stol)\n"
   ]
  },
  {
   "cell_type": "code",
   "execution_count": 61,
   "id": "d398c6e4-4914-430d-9797-e1dd4e0724b6",
   "metadata": {},
   "outputs": [
    {
     "ename": "TypeError",
     "evalue": "'list' object is not callable",
     "output_type": "error",
     "traceback": [
      "\u001b[1;31m---------------------------------------------------------------------------\u001b[0m",
      "\u001b[1;31mTypeError\u001b[0m                                 Traceback (most recent call last)",
      "\u001b[1;32m<ipython-input-61-acbaab49675c>\u001b[0m in \u001b[0;36m<module>\u001b[1;34m\u001b[0m\n\u001b[0;32m      1\u001b[0m \u001b[0ms\u001b[0m\u001b[1;33m=\u001b[0m\u001b[1;34m\"python\"\u001b[0m\u001b[1;33m\u001b[0m\u001b[1;33m\u001b[0m\u001b[0m\n\u001b[1;32m----> 2\u001b[1;33m \u001b[0ml\u001b[0m\u001b[1;33m=\u001b[0m\u001b[0mlist\u001b[0m\u001b[1;33m(\u001b[0m\u001b[0ms\u001b[0m\u001b[1;33m)\u001b[0m\u001b[1;33m\u001b[0m\u001b[1;33m\u001b[0m\u001b[0m\n\u001b[0m\u001b[0;32m      3\u001b[0m \u001b[0mprint\u001b[0m\u001b[1;33m(\u001b[0m\u001b[0ml\u001b[0m\u001b[1;33m)\u001b[0m\u001b[1;33m\u001b[0m\u001b[1;33m\u001b[0m\u001b[0m\n",
      "\u001b[1;31mTypeError\u001b[0m: 'list' object is not callable"
     ]
    }
   ],
   "source": [
    "s=\"python\"                           #doubt\n",
    "l=list(s)\n",
    "print(l)\n"
   ]
  },
  {
   "cell_type": "code",
   "execution_count": 62,
   "id": "f0870733-7955-46a4-8e83-c3bb617c59ce",
   "metadata": {},
   "outputs": [
    {
     "name": "stdout",
     "output_type": "stream",
     "text": [
      "10\n"
     ]
    }
   ],
   "source": [
    "a=10\n",
    "print(a)"
   ]
  },
  {
   "cell_type": "code",
   "execution_count": null,
   "id": "14168430-125e-482e-9789-d4291a7f1dd9",
   "metadata": {},
   "outputs": [],
   "source": []
  }
 ],
 "metadata": {
  "kernelspec": {
   "display_name": "Python 3",
   "language": "python",
   "name": "python3"
  },
  "language_info": {
   "codemirror_mode": {
    "name": "ipython",
    "version": 3
   },
   "file_extension": ".py",
   "mimetype": "text/x-python",
   "name": "python",
   "nbconvert_exporter": "python",
   "pygments_lexer": "ipython3",
   "version": "3.8.8"
  }
 },
 "nbformat": 4,
 "nbformat_minor": 5
}
