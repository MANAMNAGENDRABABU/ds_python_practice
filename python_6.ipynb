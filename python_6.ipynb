{
 "cells": [
  {
   "cell_type": "code",
   "execution_count": 2,
   "id": "8b1b3c7a-889d-4181-9c73-d95f6dd3eb51",
   "metadata": {},
   "outputs": [
    {
     "name": "stdout",
     "output_type": "stream",
     "text": [
      "print function: hello world\n",
      "\n",
      "    this is the function \n",
      "    \n"
     ]
    }
   ],
   "source": [
    "def hello(world):\n",
    "    '''\n",
    "    this is the function \n",
    "    '''\n",
    "    print(\"print function: \"+str(world))\n",
    "hello(\"hello world\")  \n",
    "print(hello.__doc__)\n",
    "    "
   ]
  },
  {
   "cell_type": "code",
   "execution_count": 4,
   "id": "8e0eb185-49e1-4300-af96-6af6a89912d5",
   "metadata": {},
   "outputs": [
    {
     "name": "stdout",
     "output_type": "stream",
     "text": [
      "sum of list when return : 15\n",
      "\n",
      "    this is return list of sum of values.\n",
      "    \n"
     ]
    }
   ],
   "source": [
    "def sum(listn):\n",
    "    '''\n",
    "    this is return list of sum of values.\n",
    "    '''\n",
    "    b=0\n",
    "    for i in listn:\n",
    "        b+=i\n",
    "    return b\n",
    "c=sum([1,2,3,4,5])\n",
    "print(\"sum of list when return :\",c)\n",
    "print(sum.__doc__)"
   ]
  },
  {
   "cell_type": "code",
   "execution_count": 5,
   "id": "09dce104-56e9-4ff3-9fd7-5591cea043fb",
   "metadata": {},
   "outputs": [
    {
     "name": "stdout",
     "output_type": "stream",
     "text": [
      "inside of global var: this is global variable\n",
      "inside of local var:  local variable\n",
      "outside of global var : this is global variable\n"
     ]
    },
    {
     "ename": "NameError",
     "evalue": "name 'b' is not defined",
     "output_type": "error",
     "traceback": [
      "\u001b[1;31m---------------------------------------------------------------------------\u001b[0m",
      "\u001b[1;31mNameError\u001b[0m                                 Traceback (most recent call last)",
      "\u001b[1;32m<ipython-input-5-c75116363fec>\u001b[0m in \u001b[0;36m<module>\u001b[1;34m\u001b[0m\n\u001b[0;32m      6\u001b[0m \u001b[0mglobaltolocal\u001b[0m\u001b[1;33m(\u001b[0m\u001b[1;33m)\u001b[0m\u001b[1;33m\u001b[0m\u001b[1;33m\u001b[0m\u001b[0m\n\u001b[0;32m      7\u001b[0m \u001b[0mprint\u001b[0m\u001b[1;33m(\u001b[0m\u001b[1;34m\"outside of global var :\"\u001b[0m\u001b[1;33m,\u001b[0m\u001b[0ma\u001b[0m\u001b[1;33m)\u001b[0m\u001b[1;33m\u001b[0m\u001b[1;33m\u001b[0m\u001b[0m\n\u001b[1;32m----> 8\u001b[1;33m \u001b[0mprint\u001b[0m\u001b[1;33m(\u001b[0m\u001b[1;34m\"out side of local var: \"\u001b[0m\u001b[1;33m,\u001b[0m\u001b[0mb\u001b[0m\u001b[1;33m)\u001b[0m\u001b[1;33m\u001b[0m\u001b[1;33m\u001b[0m\u001b[0m\n\u001b[0m",
      "\u001b[1;31mNameError\u001b[0m: name 'b' is not defined"
     ]
    }
   ],
   "source": [
    "a=\"this is global variable\"\n",
    "def globaltolocal():\n",
    "    b=\"local variable\"\n",
    "    print(\"inside of global var:\",a)\n",
    "    print(\"inside of local var: \",b)\n",
    "globaltolocal()\n",
    "print(\"outside of global var :\",a)\n",
    "print(\"out side of local var: \",b)"
   ]
  },
  {
   "cell_type": "code",
   "execution_count": 13,
   "id": "632cdd84-91d9-4f65-be45-2a0efff7ebb7",
   "metadata": {},
   "outputs": [
    {
     "name": "stdout",
     "output_type": "stream",
     "text": [
      "number 5of factorial is : 120\n"
     ]
    }
   ],
   "source": [
    "def factorial(num):\n",
    "    fact=1\n",
    "    while(num>0):\n",
    "        fact*=num\n",
    "        num-=1\n",
    "    return fact\n",
    "number=5\n",
    "print(\"number {}of factorial is : {}\".format(number,factorial(number)))"
   ]
  },
  {
   "cell_type": "code",
   "execution_count": 17,
   "id": "eb114e20-2c5a-481b-9a60-47778576a804",
   "metadata": {},
   "outputs": [
    {
     "name": "stdout",
     "output_type": "stream",
     "text": [
      "20\n"
     ]
    }
   ],
   "source": [
    "a=-20\n",
    "print(abs(a))"
   ]
  },
  {
   "cell_type": "code",
   "execution_count": 18,
   "id": "d1810b7b-ba4f-42d1-80cb-575855af799a",
   "metadata": {},
   "outputs": [
    {
     "name": "stdout",
     "output_type": "stream",
     "text": [
      "True\n"
     ]
    }
   ],
   "source": [
    "a={1,2,3,4,5}\n",
    "print(all(a))"
   ]
  },
  {
   "cell_type": "code",
   "execution_count": 19,
   "id": "b56a57d2-5ff4-451d-b015-5cb97348ef8e",
   "metadata": {},
   "outputs": [
    {
     "name": "stdout",
     "output_type": "stream",
     "text": [
      "False\n"
     ]
    }
   ],
   "source": [
    "b={1,2,0,2,1,4,5}\n",
    "print(all(b))"
   ]
  },
  {
   "cell_type": "code",
   "execution_count": 20,
   "id": "c1fba0da-15b1-4b99-a76a-aea008587ec4",
   "metadata": {},
   "outputs": [
    {
     "name": "stdout",
     "output_type": "stream",
     "text": [
      "True\n"
     ]
    }
   ],
   "source": [
    "t=(10,20,30,40)\n",
    "print(all(t))"
   ]
  },
  {
   "cell_type": "code",
   "execution_count": 21,
   "id": "ee93e045-d267-4ec0-a604-3f74d4017459",
   "metadata": {},
   "outputs": [
    {
     "name": "stdout",
     "output_type": "stream",
     "text": [
      "True\n"
     ]
    }
   ],
   "source": [
    "l=[]\n",
    "print(all(l))"
   ]
  },
  {
   "cell_type": "code",
   "execution_count": 22,
   "id": "56bdeab2-747b-4cbd-b5c8-5192e6c222ca",
   "metadata": {},
   "outputs": [
    {
     "name": "stdout",
     "output_type": "stream",
     "text": [
      "False\n"
     ]
    }
   ],
   "source": [
    "l=[10,20,0,22]\n",
    "print(all(l))"
   ]
  },
  {
   "cell_type": "code",
   "execution_count": 28,
   "id": "32e89391-063d-4001-b95c-77c546912e3c",
   "metadata": {},
   "outputs": [
    {
     "name": "stdout",
     "output_type": "stream",
     "text": [
      "(3, 1)\n"
     ]
    }
   ],
   "source": [
    "a=divmod(10,3)\n",
    "print(a)"
   ]
  },
  {
   "cell_type": "code",
   "execution_count": 29,
   "id": "1be5f618-5f92-4dd0-8e89-b375db695240",
   "metadata": {},
   "outputs": [
    {
     "name": "stdout",
     "output_type": "stream",
     "text": [
      "(142, 6)\n"
     ]
    }
   ],
   "source": [
    "b=divmod(1000,7)\n",
    "print(b)"
   ]
  },
  {
   "cell_type": "code",
   "execution_count": 34,
   "id": "dbbc6f52-249e-4fae-9684-8df3076356b7",
   "metadata": {},
   "outputs": [
    {
     "name": "stdout",
     "output_type": "stream",
     "text": [
      "100 is index, then value is :20\n",
      "101 is index, then value is :30\n",
      "102 is index, then value is :405\n",
      "103 is index, then value is :60\n",
      "index is 0, value is 20\n",
      "index is 1, value is 30\n",
      "index is 2, value is 405\n",
      "index is 3, value is 60\n"
     ]
    }
   ],
   "source": [
    "l=[20,30,405,60]\n",
    "for b,a in enumerate(l,100):\n",
    "    print(\"{} is index, then value is :{}\".format(b,a) )\n",
    "for a,b in enumerate(l):\n",
    "    print(\"index is {}, value is {}\".format(a,b))\n",
    "\n",
    "    "
   ]
  },
  {
   "cell_type": "code",
   "execution_count": 38,
   "id": "f0d4dfc5-ac8f-4c22-99b2-03a8930bbe01",
   "metadata": {},
   "outputs": [
    {
     "name": "stdout",
     "output_type": "stream",
     "text": [
      "original values is: [0, 1, 2, 3, 4, 5, 6, 7, 8, 9, 10, 11, 12, 13, 14, 15, 16, 17, 18, 19, 20]\n",
      "odd numbers is: [1, 3, 5, 7, 9, 11, 13, 15, 17, 19]\n"
     ]
    }
   ],
   "source": [
    "def odd(numb):\n",
    "    if(numb%2==1):\n",
    "        return numb\n",
    "a=range(21)    \n",
    "oddnumbers=list(filter(odd,a))\n",
    "print(\"original values is:\",list(a))\n",
    "print(\"odd numbers is:\",oddnumbers)"
   ]
  },
  {
   "cell_type": "code",
   "execution_count": null,
   "id": "9f959032-c57b-4834-8e7e-f180064c9282",
   "metadata": {},
   "outputs": [],
   "source": []
  }
 ],
 "metadata": {
  "kernelspec": {
   "display_name": "Python 3",
   "language": "python",
   "name": "python3"
  },
  "language_info": {
   "codemirror_mode": {
    "name": "ipython",
    "version": 3
   },
   "file_extension": ".py",
   "mimetype": "text/x-python",
   "name": "python",
   "nbconvert_exporter": "python",
   "pygments_lexer": "ipython3",
   "version": "3.8.8"
  }
 },
 "nbformat": 4,
 "nbformat_minor": 5
}
