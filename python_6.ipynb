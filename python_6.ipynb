{
 "cells": [
  {
   "cell_type": "code",
   "execution_count": 2,
   "id": "8b1b3c7a-889d-4181-9c73-d95f6dd3eb51",
   "metadata": {},
   "outputs": [
    {
     "name": "stdout",
     "output_type": "stream",
     "text": [
      "print function: hello world\n",
      "\n",
      "    this is the function \n",
      "    \n"
     ]
    }
   ],
   "source": [
    "def hello(world):\n",
    "    '''\n",
    "    this is the function \n",
    "    '''\n",
    "    print(\"print function: \"+str(world))\n",
    "hello(\"hello world\")  \n",
    "print(hello.__doc__)\n",
    "    "
   ]
  },
  {
   "cell_type": "code",
   "execution_count": 4,
   "id": "8e0eb185-49e1-4300-af96-6af6a89912d5",
   "metadata": {},
   "outputs": [
    {
     "name": "stdout",
     "output_type": "stream",
     "text": [
      "sum of list when return : 15\n",
      "\n",
      "    this is return list of sum of values.\n",
      "    \n"
     ]
    }
   ],
   "source": [
    "def sum(listn):\n",
    "    '''\n",
    "    this is return list of sum of values.\n",
    "    '''\n",
    "    b=0\n",
    "    for i in listn:\n",
    "        b+=i\n",
    "    return b\n",
    "c=sum([1,2,3,4,5])\n",
    "print(\"sum of list when return :\",c)\n",
    "print(sum.__doc__)"
   ]
  },
  {
   "cell_type": "code",
   "execution_count": 5,
   "id": "09dce104-56e9-4ff3-9fd7-5591cea043fb",
   "metadata": {},
   "outputs": [
    {
     "name": "stdout",
     "output_type": "stream",
     "text": [
      "inside of global var: this is global variable\n",
      "inside of local var:  local variable\n",
      "outside of global var : this is global variable\n"
     ]
    },
    {
     "ename": "NameError",
     "evalue": "name 'b' is not defined",
     "output_type": "error",
     "traceback": [
      "\u001b[1;31m---------------------------------------------------------------------------\u001b[0m",
      "\u001b[1;31mNameError\u001b[0m                                 Traceback (most recent call last)",
      "\u001b[1;32m<ipython-input-5-c75116363fec>\u001b[0m in \u001b[0;36m<module>\u001b[1;34m\u001b[0m\n\u001b[0;32m      6\u001b[0m \u001b[0mglobaltolocal\u001b[0m\u001b[1;33m(\u001b[0m\u001b[1;33m)\u001b[0m\u001b[1;33m\u001b[0m\u001b[1;33m\u001b[0m\u001b[0m\n\u001b[0;32m      7\u001b[0m \u001b[0mprint\u001b[0m\u001b[1;33m(\u001b[0m\u001b[1;34m\"outside of global var :\"\u001b[0m\u001b[1;33m,\u001b[0m\u001b[0ma\u001b[0m\u001b[1;33m)\u001b[0m\u001b[1;33m\u001b[0m\u001b[1;33m\u001b[0m\u001b[0m\n\u001b[1;32m----> 8\u001b[1;33m \u001b[0mprint\u001b[0m\u001b[1;33m(\u001b[0m\u001b[1;34m\"out side of local var: \"\u001b[0m\u001b[1;33m,\u001b[0m\u001b[0mb\u001b[0m\u001b[1;33m)\u001b[0m\u001b[1;33m\u001b[0m\u001b[1;33m\u001b[0m\u001b[0m\n\u001b[0m",
      "\u001b[1;31mNameError\u001b[0m: name 'b' is not defined"
     ]
    }
   ],
   "source": [
    "a=\"this is global variable\"\n",
    "def globaltolocal():\n",
    "    b=\"local variable\"\n",
    "    print(\"inside of global var:\",a)\n",
    "    print(\"inside of local var: \",b)\n",
    "globaltolocal()\n",
    "print(\"outside of global var :\",a)\n",
    "print(\"out side of local var: \",b)"
   ]
  },
  {
   "cell_type": "code",
   "execution_count": 13,
   "id": "632cdd84-91d9-4f65-be45-2a0efff7ebb7",
   "metadata": {},
   "outputs": [
    {
     "name": "stdout",
     "output_type": "stream",
     "text": [
      "number 5of factorial is : 120\n"
     ]
    }
   ],
   "source": [
    "def factorial(num):\n",
    "    fact=1\n",
    "    while(num>0):\n",
    "        fact*=num\n",
    "        num-=1\n",
    "    return fact\n",
    "number=5\n",
    "print(\"number {}of factorial is : {}\".format(number,factorial(number)))"
   ]
  },
  {
   "cell_type": "code",
   "execution_count": 17,
   "id": "eb114e20-2c5a-481b-9a60-47778576a804",
   "metadata": {},
   "outputs": [
    {
     "name": "stdout",
     "output_type": "stream",
     "text": [
      "20\n"
     ]
    }
   ],
   "source": [
    "a=-20\n",
    "print(abs(a))"
   ]
  },
  {
   "cell_type": "code",
   "execution_count": 18,
   "id": "d1810b7b-ba4f-42d1-80cb-575855af799a",
   "metadata": {},
   "outputs": [
    {
     "name": "stdout",
     "output_type": "stream",
     "text": [
      "True\n"
     ]
    }
   ],
   "source": [
    "a={1,2,3,4,5}\n",
    "print(all(a))"
   ]
  },
  {
   "cell_type": "code",
   "execution_count": 19,
   "id": "b56a57d2-5ff4-451d-b015-5cb97348ef8e",
   "metadata": {},
   "outputs": [
    {
     "name": "stdout",
     "output_type": "stream",
     "text": [
      "False\n"
     ]
    }
   ],
   "source": [
    "b={1,2,0,2,1,4,5}\n",
    "print(all(b))"
   ]
  },
  {
   "cell_type": "code",
   "execution_count": 20,
   "id": "c1fba0da-15b1-4b99-a76a-aea008587ec4",
   "metadata": {},
   "outputs": [
    {
     "name": "stdout",
     "output_type": "stream",
     "text": [
      "True\n"
     ]
    }
   ],
   "source": [
    "t=(10,20,30,40)\n",
    "print(all(t))"
   ]
  },
  {
   "cell_type": "code",
   "execution_count": 21,
   "id": "ee93e045-d267-4ec0-a604-3f74d4017459",
   "metadata": {},
   "outputs": [
    {
     "name": "stdout",
     "output_type": "stream",
     "text": [
      "True\n"
     ]
    }
   ],
   "source": [
    "l=[]\n",
    "print(all(l))"
   ]
  },
  {
   "cell_type": "code",
   "execution_count": 22,
   "id": "56bdeab2-747b-4cbd-b5c8-5192e6c222ca",
   "metadata": {},
   "outputs": [
    {
     "name": "stdout",
     "output_type": "stream",
     "text": [
      "False\n"
     ]
    }
   ],
   "source": [
    "l=[10,20,0,22]\n",
    "print(all(l))"
   ]
  },
  {
   "cell_type": "code",
   "execution_count": 28,
   "id": "32e89391-063d-4001-b95c-77c546912e3c",
   "metadata": {},
   "outputs": [
    {
     "name": "stdout",
     "output_type": "stream",
     "text": [
      "(3, 1)\n"
     ]
    }
   ],
   "source": [
    "a=divmod(10,3)\n",
    "print(a)"
   ]
  },
  {
   "cell_type": "code",
   "execution_count": 29,
   "id": "1be5f618-5f92-4dd0-8e89-b375db695240",
   "metadata": {},
   "outputs": [
    {
     "name": "stdout",
     "output_type": "stream",
     "text": [
      "(142, 6)\n"
     ]
    }
   ],
   "source": [
    "b=divmod(1000,7)\n",
    "print(b)"
   ]
  },
  {
   "cell_type": "code",
   "execution_count": 34,
   "id": "dbbc6f52-249e-4fae-9684-8df3076356b7",
   "metadata": {},
   "outputs": [
    {
     "name": "stdout",
     "output_type": "stream",
     "text": [
      "100 is index, then value is :20\n",
      "101 is index, then value is :30\n",
      "102 is index, then value is :405\n",
      "103 is index, then value is :60\n",
      "index is 0, value is 20\n",
      "index is 1, value is 30\n",
      "index is 2, value is 405\n",
      "index is 3, value is 60\n"
     ]
    }
   ],
   "source": [
    "l=[20,30,405,60]\n",
    "for b,a in enumerate(l,100):\n",
    "    print(\"{} is index, then value is :{}\".format(b,a) )\n",
    "for a,b in enumerate(l):\n",
    "    print(\"index is {}, value is {}\".format(a,b))\n",
    "\n",
    "    "
   ]
  },
  {
   "cell_type": "code",
   "execution_count": 38,
   "id": "f0d4dfc5-ac8f-4c22-99b2-03a8930bbe01",
   "metadata": {},
   "outputs": [
    {
     "name": "stdout",
     "output_type": "stream",
     "text": [
      "original values is: [0, 1, 2, 3, 4, 5, 6, 7, 8, 9, 10, 11, 12, 13, 14, 15, 16, 17, 18, 19, 20]\n",
      "odd numbers is: [1, 3, 5, 7, 9, 11, 13, 15, 17, 19]\n"
     ]
    }
   ],
   "source": [
    "def odd(numb):\n",
    "    if(numb%2==1):\n",
    "        return numb\n",
    "a=range(21)    \n",
    "oddnumbers=list(filter(odd,a))\n",
    "print(\"original values is:\",list(a))\n",
    "print(\"odd numbers is:\",oddnumbers)"
   ]
  },
  {
   "cell_type": "code",
   "execution_count": 1,
   "id": "9f959032-c57b-4834-8e7e-f180064c9282",
   "metadata": {},
   "outputs": [
    {
     "name": "stdout",
     "output_type": "stream",
     "text": [
      "True\n"
     ]
    }
   ],
   "source": [
    "a=[1,2,3,4,5]\n",
    "print(isinstance(a,list))"
   ]
  },
  {
   "cell_type": "code",
   "execution_count": 2,
   "id": "a7029b03-3c96-48d1-97be-a1ad90098fe9",
   "metadata": {},
   "outputs": [
    {
     "name": "stdout",
     "output_type": "stream",
     "text": [
      "True\n"
     ]
    }
   ],
   "source": [
    "b=(1,23,4,5,6)\n",
    "print(isinstance(b,tuple))"
   ]
  },
  {
   "cell_type": "code",
   "execution_count": 3,
   "id": "b4240281-ac3d-47ba-9520-c53a4dc69b5c",
   "metadata": {},
   "outputs": [
    {
     "name": "stdout",
     "output_type": "stream",
     "text": [
      "half of num of a : [5.0, 10.0, 15.0, 20.0, 25.0]\n"
     ]
    }
   ],
   "source": [
    "a=[10,20,30,40,50]\n",
    "\n",
    "\n",
    "half=[]\n",
    "for i in a:\n",
    "    b=i/2\n",
    "    half.append(b)\n",
    "print(\"half of num of a :\", half)    "
   ]
  },
  {
   "cell_type": "code",
   "execution_count": 5,
   "id": "9ce8a168-63cc-4cc2-8a8a-1ac9657bccff",
   "metadata": {},
   "outputs": [
    {
     "name": "stdout",
     "output_type": "stream",
     "text": [
      "[5.0, 10.0, 15.0, 50.0, 100.0]\n"
     ]
    }
   ],
   "source": [
    "num = [10,20,30,100,200]\n",
    "def numbers(a):\n",
    "    return a/2\n",
    "\n",
    "half = list(map(numbers ,  num))\n",
    "print(half)"
   ]
  },
  {
   "cell_type": "code",
   "execution_count": 6,
   "id": "ced0fba8-ac98-4d4f-971e-9f85bbeb8386",
   "metadata": {},
   "outputs": [
    {
     "name": "stdout",
     "output_type": "stream",
     "text": [
      "sum is 165\n"
     ]
    }
   ],
   "source": [
    "a=[22,33,11,44,55]\n",
    "sum=0\n",
    "for i in a:\n",
    "    sum+=i\n",
    "print(\"sum is\",sum)    \n"
   ]
  },
  {
   "cell_type": "code",
   "execution_count": 8,
   "id": "6bc2b855-a7c9-41ba-98f0-62d53bedecd7",
   "metadata": {},
   "outputs": [
    {
     "name": "stdout",
     "output_type": "stream",
     "text": [
      "sum of reduce : 165\n"
     ]
    }
   ],
   "source": [
    "from functools import reduce\n",
    "\n",
    "num=[11,22,33,44,55]\n",
    "def sumofarray(x,y):\n",
    "    return x+y\n",
    "sum=reduce(sumofarray,num)\n",
    "print(\"sum of reduce :\",sum)"
   ]
  },
  {
   "cell_type": "code",
   "execution_count": 9,
   "id": "8124c4da-8dcc-4098-a0ca-a933b4bc44e2",
   "metadata": {},
   "outputs": [
    {
     "name": "stdout",
     "output_type": "stream",
     "text": [
      "sum of 2 and 3 is 5\n"
     ]
    }
   ],
   "source": [
    "def sum(a,b):\n",
    "    return a+b\n",
    "x,y=2,3\n",
    "print(\"sum of {} and {} is {}\".format(x,y,sum(x,y)))"
   ]
  },
  {
   "cell_type": "code",
   "execution_count": 12,
   "id": "114821cb-5d85-4cd3-815b-cbafae7bf368",
   "metadata": {},
   "outputs": [
    {
     "name": "stdout",
     "output_type": "stream",
     "text": [
      "select ur choice :\n",
      "1. additin :\n",
      "2. subtraction\n",
      "3.multiplicatin\n",
      "4. division\n"
     ]
    },
    {
     "name": "stdin",
     "output_type": "stream",
     "text": [
      "enter which u want of : 5\n",
      "enter x value is: 1\n",
      "enter y value is: 1\n"
     ]
    },
    {
     "name": "stdout",
     "output_type": "stream",
     "text": [
      "invalid\n"
     ]
    }
   ],
   "source": [
    "def add(a,b):\n",
    "    return a+b\n",
    "\n",
    "def sub(a,b):\n",
    "    return a-b\n",
    "\n",
    "\n",
    "def mul(a,b):\n",
    "    return a*b\n",
    "\n",
    "\n",
    "def div(a,b):\n",
    "    return a/b\n",
    "\n",
    "print(\"select ur choice :\")\n",
    "print(\"1. additin :\")\n",
    "print(\"2. subtraction\")\n",
    "print(\"3.multiplicatin\")\n",
    "print(\"4. division\")\n",
    "choice = int(input(\"enter which u want of :\"))\n",
    "x=int(input(\"enter x value is:\"))\n",
    "y=int(input(\"enter y value is:\"))\n",
    "\n",
    "\n",
    "if choice==1:\n",
    "    print(\"{} and {} of add is :{} \".format(x,y,add(x,y)))\n",
    "\n",
    "if choice==2:\n",
    "    print(\"{} and {} of substraction is :{} \".format(x,y,sub(x,y)))\n",
    "if choice==3:\n",
    "    print(\"{} and {} of multiplication is:{} \".format(x,y,mul(x,y)))\n",
    "if choice==4:\n",
    "    print(\"{} and {} of division is : {}\".format(x,y,div(x,y)))\n",
    "else:\n",
    "    print(\"invalid\")\n",
    "\n",
    "    \n",
    "    \n",
    "\n",
    "    "
   ]
  },
  {
   "cell_type": "code",
   "execution_count": 14,
   "id": "341f5f5c-e947-4b55-b1dd-45775a1d3a3d",
   "metadata": {},
   "outputs": [
    {
     "name": "stdout",
     "output_type": "stream",
     "text": [
      " hello i am ram amd doing data science \n",
      " hello i am nagaraj amd doing doing supervisor \n"
     ]
    }
   ],
   "source": [
    "def hello(a,b):\n",
    "    print(\" hello i am {} amd doing {} \".format(a,b))\n",
    "hello(\"ram\",\"data science\")\n",
    "hello(\"nagaraj\",\"doing supervisor\")"
   ]
  },
  {
   "cell_type": "code",
   "execution_count": 19,
   "id": "7ab66196-90ad-4d17-b808-ad160fe70307",
   "metadata": {},
   "outputs": [
    {
     "name": "stdout",
     "output_type": "stream",
     "text": [
      " hello i am ram amd doing data science \n",
      " hello i am nagaraj amd doing doing supervisor \n"
     ]
    }
   ],
   "source": [
    "def hello(a,b):\n",
    "    print(\" hello i am {} amd doing {} \".format(a,b))\n",
    "hello(\"ram\",\"data science\")\n",
    "hello(a=\"nagaraj\",b=\"doing supervisor\")"
   ]
  },
  {
   "cell_type": "code",
   "execution_count": 22,
   "id": "a607b58c-1d53-4ed7-9e2c-0c5564360043",
   "metadata": {},
   "outputs": [
    {
     "name": "stdout",
     "output_type": "stream",
     "text": [
      "hello i am john doing data science\n",
      "hello i am tom doing python\n",
      "hello i am sam doing java\n",
      "hello i am josh doing android\n",
      "hello i am chandu doing html\n"
     ]
    }
   ],
   "source": [
    "def hello(a,b=\"python\"):\n",
    "    print(\"hello i am {} doing {}\".format(a,b))\n",
    "hello(\"john\",\"data science\")\n",
    "hello(\"tom\")\n",
    "hello(\"sam\",b=\"java\")\n",
    "hello(b=\"android\",a=\"josh\")\n",
    "hello(\"chandu\",b=\"html\")"
   ]
  },
  {
   "cell_type": "code",
   "execution_count": 2,
   "id": "ac0308ce-0540-475c-9af9-5c46ea48abdd",
   "metadata": {},
   "outputs": [
    {
     "name": "stdout",
     "output_type": "stream",
     "text": [
      " hello ram, ds\n"
     ]
    }
   ],
   "source": [
    "def hello(**a):\n",
    "    print(\" hello {}, {}\".format(a[\"name\"],a[\"subj\"]))\n",
    "hello(name=\"ram\",subj=\"ds\")    \n",
    "    "
   ]
  },
  {
   "cell_type": "code",
   "execution_count": 26,
   "id": "fc528a6d-ef3f-4fd8-a64a-dc900370bed5",
   "metadata": {},
   "outputs": [
    {
     "name": "stdout",
     "output_type": "stream",
     "text": [
      "('nagaraj', 'sam', 'john', 'ram')\n",
      "hello :nagaraj\n",
      "hello :sam\n",
      "hello :john\n",
      "hello :ram\n"
     ]
    }
   ],
   "source": [
    "def hello(*a):\n",
    "    print(a)\n",
    "    for i in a:\n",
    "        print(\"hello :{}\".format(i))\n",
    "hello(\"nagaraj\",\"sam\",\"john\",\"ram\")    "
   ]
  },
  {
   "cell_type": "code",
   "execution_count": 3,
   "id": "874e92e4-fcf0-4fb3-8656-8633a373f3eb",
   "metadata": {},
   "outputs": [
    {
     "name": "stdout",
     "output_type": "stream",
     "text": [
      "fact of 6 is 720\n"
     ]
    }
   ],
   "source": [
    "def factorial(num):\n",
    "    return 1 if num==1 else (num * factorial(num-1))\n",
    "number=6\n",
    "print(\"fact of {} is {}\".format(number,factorial(number)))"
   ]
  },
  {
   "cell_type": "code",
   "execution_count": 4,
   "id": "befe0595-2d7f-4aed-a48c-fb420147dbe5",
   "metadata": {},
   "outputs": [
    {
     "name": "stdout",
     "output_type": "stream",
     "text": [
      "febonacci of series\n",
      "0\n",
      "1\n",
      "1\n",
      "2\n",
      "3\n"
     ]
    }
   ],
   "source": [
    "def febonacci(num):\n",
    "    \n",
    "    return num if num<=1 else febonacci(num-1) + febonacci(num-2)\n",
    "number=5\n",
    "print(\"febonacci of series\")\n",
    "\n",
    "for i in range(number):\n",
    "    print(febonacci(i))"
   ]
  },
  {
   "cell_type": "code",
   "execution_count": 5,
   "id": "8cc5083d-157f-4ce7-a07c-3d6abb1fe321",
   "metadata": {},
   "outputs": [
    {
     "name": "stdout",
     "output_type": "stream",
     "text": [
      "25\n"
     ]
    }
   ],
   "source": [
    "def square(x):\n",
    "    return x**2\n",
    "print(square(5))"
   ]
  },
  {
   "cell_type": "code",
   "execution_count": 6,
   "id": "d27b4a45-9df5-4b19-8b28-4b2441cd0a05",
   "metadata": {},
   "outputs": [
    {
     "name": "stdout",
     "output_type": "stream",
     "text": [
      "25\n"
     ]
    }
   ],
   "source": [
    "square=lambda x:x**2\n",
    "print(square(5))"
   ]
  },
  {
   "cell_type": "code",
   "execution_count": 7,
   "id": "837ebcdc-6d09-425f-8446-6d51548286bf",
   "metadata": {},
   "outputs": [
    {
     "name": "stdout",
     "output_type": "stream",
     "text": [
      "[1, 3, 33]\n"
     ]
    }
   ],
   "source": [
    "a=[1,2,3,44,33,22,10]\n",
    "odd=list(filter(lambda x: x%2==1, a))\n",
    "print(odd)"
   ]
  },
  {
   "cell_type": "code",
   "execution_count": 8,
   "id": "bfb03a95-9e92-4f57-953c-904af57e241c",
   "metadata": {},
   "outputs": [
    {
     "name": "stdout",
     "output_type": "stream",
     "text": [
      "[1, 4, 9, 16, 25]\n"
     ]
    }
   ],
   "source": [
    "a=[1,2,3,4,5]\n",
    "square=list(map(lambda x: x**2,a))\n",
    "print(square)\n"
   ]
  },
  {
   "cell_type": "code",
   "execution_count": 9,
   "id": "d19fe151-2ab6-4512-8442-3ce716e1158e",
   "metadata": {},
   "outputs": [
    {
     "name": "stdout",
     "output_type": "stream",
     "text": [
      "37\n"
     ]
    }
   ],
   "source": [
    "from functools import reduce as fun\n",
    "a=[1,2,3,4,5,6,7,9]\n",
    "sum=fun(lambda x,y: x+y ,a)\n",
    "print(sum)"
   ]
  },
  {
   "cell_type": "code",
   "execution_count": null,
   "id": "3c69aba6-8b51-4c17-9ca2-7e1bd2a32077",
   "metadata": {},
   "outputs": [],
   "source": []
  }
 ],
 "metadata": {
  "kernelspec": {
   "display_name": "Python 3",
   "language": "python",
   "name": "python3"
  },
  "language_info": {
   "codemirror_mode": {
    "name": "ipython",
    "version": 3
   },
   "file_extension": ".py",
   "mimetype": "text/x-python",
   "name": "python",
   "nbconvert_exporter": "python",
   "pygments_lexer": "ipython3",
   "version": "3.8.8"
  }
 },
 "nbformat": 4,
 "nbformat_minor": 5
}
